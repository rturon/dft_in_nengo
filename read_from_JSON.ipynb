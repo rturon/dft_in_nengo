{
 "cells": [
  {
   "cell_type": "code",
   "execution_count": 1,
   "metadata": {},
   "outputs": [],
   "source": [
    "from read_json import load_from_json"
   ]
  },
  {
   "cell_type": "code",
   "execution_count": 2,
   "metadata": {},
   "outputs": [
    {
     "name": "stdout",
     "output_type": "stream",
     "text": [
      "ComponentMultiply does not have 2 inputs, but 0!\n",
      "Source is a CM object: Component Multiply 29\n",
      "[('name', 'Component Multiply 29'), ('comments', ''), ('inp size1', ['50', '50']), ('inp size2', ['50', '50'])]\n",
      "Input size 1 and 2: ['50', '50'] ['50', '50']\n",
      "Used as output size: ['50', '50'] \n",
      "\n",
      "Source is a CM object: Component Multiply 30\n",
      "[('name', 'Component Multiply 30'), ('comments', ''), ('inp size1', ['50', '50']), ('inp size2', ['50', '50'])]\n",
      "Input size 1 and 2: ['50', '50'] ['50', '50']\n",
      "Used as output size: ['50', '50'] \n",
      "\n",
      "Source is a CM object: Component Multiply 33\n",
      "[('name', 'Component Multiply 33'), ('comments', ''), ('inp size1', ['50', '50']), ('inp size2', ['50', '50'])]\n",
      "Input size 1 and 2: ['50', '50'] ['50', '50']\n",
      "Used as output size: ['50', '50'] \n",
      "\n",
      "Source is a CM object: Component Multiply 35\n",
      "[('name', 'Component Multiply 35'), ('comments', ''), ('inp size1', ['50', '50']), ('inp size2', ['50', '50'])]\n",
      "Input size 1 and 2: ['50', '50'] ['50', '50']\n",
      "Used as output size: ['50', '50'] \n",
      "\n",
      "Source is a CM object: Component Multiply 36\n",
      "[('name', 'Component Multiply 36'), ('comments', ''), ('inp size1', ['50', '50']), ('inp size2', ['50', '50'])]\n",
      "Input size 1 and 2: ['50', '50'] ['50', '50']\n",
      "Used as output size: ['50', '50'] \n",
      "\n",
      "Source is a CM object: Component Multiply 38\n",
      "[('name', 'Component Multiply 38'), ('comments', ''), ('inp size1', ['50', '50']), ('inp size2', ['50', '50'])]\n",
      "Input size 1 and 2: ['50', '50'] ['50', '50']\n",
      "Used as output size: ['50', '50'] \n",
      "\n",
      "Source is a CM object: Component Multiply 39\n",
      "[('name', 'Component Multiply 39'), ('comments', ''), ('inp size1', ['50', '50']), ('inp size2', ['50', '50'])]\n",
      "Input size 1 and 2: ['50', '50'] ['50', '50']\n",
      "Used as output size: ['50', '50'] \n",
      "\n",
      "Source is a CM object: Component Multiply 41\n",
      "[('name', 'Component Multiply 41'), ('comments', ''), ('inp size1', ['50', '50']), ('inp size2', ['50', '50'])]\n",
      "Input size 1 and 2: ['50', '50'] ['50', '50']\n",
      "Used as output size: ['50', '50'] \n",
      "\n",
      "Source is a CM object: Component Multiply 42\n",
      "[('name', 'Component Multiply 42'), ('comments', ''), ('inp size1', ['50', '50']), ('inp size2', ['50', '50'])]\n",
      "Input size 1 and 2: ['50', '50'] ['50', '50']\n",
      "Used as output size: ['50', '50'] \n",
      "\n",
      "Source is a CM object: Component Multiply 45\n",
      "[('name', 'Component Multiply 45'), ('comments', ''), ('inp size1', ['50', '50']), ('inp size2', ['50', '50'])]\n",
      "Input size 1 and 2: ['50', '50'] ['50', '50']\n",
      "Used as output size: ['50', '50'] \n",
      "\n",
      "Source is a CM object: Component Multiply 47\n",
      "[('name', 'Component Multiply 47'), ('comments', ''), ('inp size1', ['50', '50']), ('inp size2', ['50', '50'])]\n",
      "Input size 1 and 2: ['50', '50'] ['50', '50']\n",
      "Used as output size: ['50', '50'] \n",
      "\n",
      "Source is a CM object: Component Multiply 48\n",
      "[('name', 'Component Multiply 48'), ('comments', ''), ('inp size1', ['50', '50']), ('inp size2', ['50', '50'])]\n",
      "Input size 1 and 2: ['50', '50'] ['50', '50']\n",
      "Used as output size: ['50', '50'] \n",
      "\n",
      "Source is a CM object: Component Multiply 50\n",
      "[('name', 'Component Multiply 50'), ('comments', ''), ('inp size1', ['50', '50']), ('inp size2', ['50', '50'])]\n",
      "Input size 1 and 2: ['50', '50'] ['50', '50']\n",
      "Used as output size: ['50', '50'] \n",
      "\n",
      "Source is a CM object: Component Multiply 51\n",
      "[('name', 'Component Multiply 51'), ('comments', ''), ('inp size1', ['50', '50']), ('inp size2', ['50', '50'])]\n",
      "Input size 1 and 2: ['50', '50'] ['50', '50']\n",
      "Used as output size: ['50', '50'] \n",
      "\n",
      "Source is a CM object: Component Multiply 3\n",
      "[('name', 'Component Multiply 3'), ('comments', ''), ('inp size1', ''), ('inp size2', ['50', '50'])]\n",
      "Input size 1 and 2:  ['50', '50']\n",
      "Used as output size: ['50', '50'] \n",
      "\n",
      "Source is a CM object: Component Multiply\n",
      "[('name', 'Component Multiply'), ('comments', ''), ('inp size1', ''), ('inp size2', ['50', '50'])]\n",
      "Input size 1 and 2:  ['50', '50']\n",
      "Used as output size: ['50', '50'] \n",
      "\n",
      "Source is a CM object: Component Multiply 11\n",
      "[('name', 'Component Multiply 11'), ('comments', ''), ('inp size1', ''), ('inp size2', ['50', '50'])]\n",
      "Input size 1 and 2:  ['50', '50']\n",
      "Used as output size: ['50', '50'] \n",
      "\n",
      "Source is a CM object: Component Multiply 12\n",
      "[('name', 'Component Multiply 12'), ('comments', ''), ('inp size1', ''), ('inp size2', ['50', '50'])]\n",
      "Input size 1 and 2:  ['50', '50']\n",
      "Used as output size: ['50', '50'] \n",
      "\n",
      "The object Static Gain 23 does not have a source!\n",
      "Source is a CM object: Component Multiply 32\n",
      "[('name', 'Component Multiply 32'), ('comments', ''), ('inp size1', ['50', '50']), ('inp size2', '')]\n",
      "Input size 1 and 2: ['50', '50'] \n",
      "Used as output size: ['50', '50'] \n",
      "\n",
      "Source is a CM object: Component Multiply 44\n",
      "[('name', 'Component Multiply 44'), ('comments', ''), ('inp size1', ''), ('inp size1', ['50', '50'])]\n"
     ]
    },
    {
     "ename": "IndexError",
     "evalue": "list index out of range",
     "output_type": "error",
     "traceback": [
      "\u001b[0;31m---------------------------------------------------------------------------\u001b[0m",
      "\u001b[0;31mIndexError\u001b[0m                                Traceback (most recent call last)",
      "\u001b[0;32m<ipython-input-2-33ed7a719f38>\u001b[0m in \u001b[0;36m<module>\u001b[0;34m\u001b[0m\n\u001b[0;32m----> 1\u001b[0;31m \u001b[0mobjects\u001b[0m\u001b[0;34m,\u001b[0m \u001b[0mconnections\u001b[0m \u001b[0;34m=\u001b[0m \u001b[0mload_from_json\u001b[0m\u001b[0;34m(\u001b[0m\u001b[0;34m'./JSON/mental_imagery_extended.json'\u001b[0m\u001b[0;34m)\u001b[0m\u001b[0;34m\u001b[0m\u001b[0;34m\u001b[0m\u001b[0m\n\u001b[0m",
      "\u001b[0;32m~/Documents/Uni/Master/Masterprojekt/dft_in_nengo/read_json.py\u001b[0m in \u001b[0;36mload_from_json\u001b[0;34m(filename)\u001b[0m\n\u001b[1;32m    358\u001b[0m         \u001b[0;32mif\u001b[0m \u001b[0;32mnot\u001b[0m \u001b[0mhas_size\u001b[0m \u001b[0;32mand\u001b[0m \u001b[0mobj\u001b[0m\u001b[0;34m[\u001b[0m\u001b[0;36m0\u001b[0m\u001b[0;34m]\u001b[0m \u001b[0;34m!=\u001b[0m \u001b[0;34m'cedar.processing.sources.Boost'\u001b[0m\u001b[0;34m:\u001b[0m\u001b[0;34m\u001b[0m\u001b[0;34m\u001b[0m\u001b[0m\n\u001b[1;32m    359\u001b[0m             \u001b[0;32mif\u001b[0m \u001b[0mobj\u001b[0m\u001b[0;34m[\u001b[0m\u001b[0;36m0\u001b[0m\u001b[0;34m]\u001b[0m \u001b[0;34m!=\u001b[0m \u001b[0;34m'cedar.processing.ComponentMultiply'\u001b[0m\u001b[0;34m:\u001b[0m\u001b[0;34m\u001b[0m\u001b[0;34m\u001b[0m\u001b[0m\n\u001b[0;32m--> 360\u001b[0;31m                 \u001b[0mbacktrace_size\u001b[0m\u001b[0;34m(\u001b[0m\u001b[0mobj\u001b[0m\u001b[0;34m,\u001b[0m \u001b[0mconnections\u001b[0m\u001b[0;34m,\u001b[0m \u001b[0mobject_dict\u001b[0m\u001b[0;34m,\u001b[0m \u001b[0mobj\u001b[0m\u001b[0;34m)\u001b[0m\u001b[0;34m\u001b[0m\u001b[0;34m\u001b[0m\u001b[0m\n\u001b[0m\u001b[1;32m    361\u001b[0m             \u001b[0;32melse\u001b[0m\u001b[0;34m:\u001b[0m\u001b[0;34m\u001b[0m\u001b[0;34m\u001b[0m\u001b[0m\n\u001b[1;32m    362\u001b[0m                 \u001b[0mbacktrace_CM_size\u001b[0m\u001b[0;34m(\u001b[0m\u001b[0mobj\u001b[0m\u001b[0;34m,\u001b[0m \u001b[0mconnections\u001b[0m\u001b[0;34m,\u001b[0m \u001b[0mobject_dict\u001b[0m\u001b[0;34m)\u001b[0m\u001b[0;34m\u001b[0m\u001b[0;34m\u001b[0m\u001b[0m\n",
      "\u001b[0;32m~/Documents/Uni/Master/Masterprojekt/dft_in_nengo/read_json.py\u001b[0m in \u001b[0;36mbacktrace_size\u001b[0;34m(obj, connections, objects_dict, obj_wo_size)\u001b[0m\n\u001b[1;32m    285\u001b[0m                     \u001b[0msizes\u001b[0m \u001b[0;34m=\u001b[0m \u001b[0mget_size_param\u001b[0m\u001b[0;34m(\u001b[0m\u001b[0msource\u001b[0m\u001b[0;34m,\u001b[0m \u001b[0mCM\u001b[0m\u001b[0;34m=\u001b[0m\u001b[0;32mTrue\u001b[0m\u001b[0;34m)\u001b[0m\u001b[0;34m\u001b[0m\u001b[0;34m\u001b[0m\u001b[0m\n\u001b[1;32m    286\u001b[0m                 \u001b[0;32melse\u001b[0m\u001b[0;34m:\u001b[0m\u001b[0;34m\u001b[0m\u001b[0;34m\u001b[0m\u001b[0m\n\u001b[0;32m--> 287\u001b[0;31m                     \u001b[0msizes\u001b[0m \u001b[0;34m=\u001b[0m \u001b[0mget_size_param\u001b[0m\u001b[0;34m(\u001b[0m\u001b[0msource\u001b[0m\u001b[0;34m)\u001b[0m\u001b[0;34m\u001b[0m\u001b[0;34m\u001b[0m\u001b[0m\n\u001b[0m\u001b[1;32m    288\u001b[0m                 \u001b[0mobj_wo_size\u001b[0m\u001b[0;34m[\u001b[0m\u001b[0;36m1\u001b[0m\u001b[0;34m]\u001b[0m\u001b[0;34m.\u001b[0m\u001b[0mappend\u001b[0m\u001b[0;34m(\u001b[0m\u001b[0msizes\u001b[0m\u001b[0;34m)\u001b[0m\u001b[0;34m\u001b[0m\u001b[0;34m\u001b[0m\u001b[0m\n\u001b[1;32m    289\u001b[0m                 \u001b[0;32mreturn\u001b[0m \u001b[0;32mNone\u001b[0m\u001b[0;34m\u001b[0m\u001b[0;34m\u001b[0m\u001b[0m\n",
      "\u001b[0;32m~/Documents/Uni/Master/Masterprojekt/dft_in_nengo/read_json.py\u001b[0m in \u001b[0;36mget_size_param\u001b[0;34m(obj, CM)\u001b[0m\n\u001b[1;32m    254\u001b[0m         \u001b[0mprint\u001b[0m\u001b[0;34m(\u001b[0m\u001b[0mobj\u001b[0m\u001b[0;34m[\u001b[0m\u001b[0;36m1\u001b[0m\u001b[0;34m]\u001b[0m\u001b[0;34m)\u001b[0m\u001b[0;34m\u001b[0m\u001b[0;34m\u001b[0m\u001b[0m\n\u001b[1;32m    255\u001b[0m         \u001b[0minp_size1\u001b[0m \u001b[0;34m=\u001b[0m \u001b[0;34m[\u001b[0m\u001b[0melem\u001b[0m\u001b[0;34m[\u001b[0m\u001b[0;36m1\u001b[0m\u001b[0;34m]\u001b[0m \u001b[0;32mfor\u001b[0m \u001b[0melem\u001b[0m \u001b[0;32min\u001b[0m \u001b[0mobj\u001b[0m\u001b[0;34m[\u001b[0m\u001b[0;36m1\u001b[0m\u001b[0;34m]\u001b[0m \u001b[0;32mif\u001b[0m \u001b[0melem\u001b[0m\u001b[0;34m[\u001b[0m\u001b[0;36m0\u001b[0m\u001b[0;34m]\u001b[0m \u001b[0;34m==\u001b[0m \u001b[0;34m'inp size1'\u001b[0m\u001b[0;34m]\u001b[0m\u001b[0;34m[\u001b[0m\u001b[0;36m0\u001b[0m\u001b[0;34m]\u001b[0m\u001b[0;34m\u001b[0m\u001b[0;34m\u001b[0m\u001b[0m\n\u001b[0;32m--> 256\u001b[0;31m         \u001b[0minp_size2\u001b[0m \u001b[0;34m=\u001b[0m \u001b[0;34m[\u001b[0m\u001b[0melem\u001b[0m\u001b[0;34m[\u001b[0m\u001b[0;36m1\u001b[0m\u001b[0;34m]\u001b[0m \u001b[0;32mfor\u001b[0m \u001b[0melem\u001b[0m \u001b[0;32min\u001b[0m \u001b[0mobj\u001b[0m\u001b[0;34m[\u001b[0m\u001b[0;36m1\u001b[0m\u001b[0;34m]\u001b[0m \u001b[0;32mif\u001b[0m \u001b[0melem\u001b[0m\u001b[0;34m[\u001b[0m\u001b[0;36m0\u001b[0m\u001b[0;34m]\u001b[0m \u001b[0;34m==\u001b[0m \u001b[0;34m'inp size2'\u001b[0m\u001b[0;34m]\u001b[0m\u001b[0;34m[\u001b[0m\u001b[0;36m0\u001b[0m\u001b[0;34m]\u001b[0m\u001b[0;34m\u001b[0m\u001b[0;34m\u001b[0m\u001b[0m\n\u001b[0m\u001b[1;32m    257\u001b[0m         \u001b[0mout_size\u001b[0m \u001b[0;34m=\u001b[0m \u001b[0minp_size1\u001b[0m \u001b[0;32mif\u001b[0m \u001b[0mlen\u001b[0m\u001b[0;34m(\u001b[0m\u001b[0minp_size1\u001b[0m\u001b[0;34m)\u001b[0m \u001b[0;34m>=\u001b[0m \u001b[0mlen\u001b[0m\u001b[0;34m(\u001b[0m\u001b[0minp_size2\u001b[0m\u001b[0;34m)\u001b[0m \u001b[0;32melse\u001b[0m \u001b[0minp_size2\u001b[0m\u001b[0;34m\u001b[0m\u001b[0;34m\u001b[0m\u001b[0m\n\u001b[1;32m    258\u001b[0m         \u001b[0mprint\u001b[0m\u001b[0;34m(\u001b[0m\u001b[0;34m'Input size 1 and 2:'\u001b[0m\u001b[0;34m,\u001b[0m \u001b[0minp_size1\u001b[0m\u001b[0;34m,\u001b[0m \u001b[0minp_size2\u001b[0m\u001b[0;34m)\u001b[0m\u001b[0;34m\u001b[0m\u001b[0;34m\u001b[0m\u001b[0m\n",
      "\u001b[0;31mIndexError\u001b[0m: list index out of range"
     ]
    }
   ],
   "source": [
    "objects, connections = load_from_json('./JSON/mental_imagery_extended.json')"
   ]
  },
  {
   "cell_type": "code",
   "execution_count": null,
   "metadata": {
    "scrolled": false
   },
   "outputs": [],
   "source": [
    "# check if I have all objects now by checking if the numbers are the same as\n",
    "# in the json file\n",
    "object_counts = {}\n",
    "\n",
    "for key in objects:\n",
    "    if objects[key][0] not in object_counts.keys():\n",
    "        object_counts[objects[key][0]] = 1\n",
    "    else:\n",
    "        object_counts[objects[key][0]] += 1\n",
    "        \n",
    "for key in object_counts:\n",
    "    print('Number of %s: %i' %(key, object_counts[key]))\n",
    "\n",
    "# --> Numbers check out"
   ]
  },
  {
   "cell_type": "markdown",
   "metadata": {},
   "source": [
    "# Test simpler JSON file\n",
    "To be sure that everything works correctly I added a small test architecture to the JSON files. It includes all scenarios of different group input and output connections, but with only a few objects to stay on top of things. "
   ]
  },
  {
   "cell_type": "code",
   "execution_count": null,
   "metadata": {
    "scrolled": false
   },
   "outputs": [],
   "source": [
    "test_objects, test_connections = load_from_json('./JSON/test_architecture.json')"
   ]
  },
  {
   "cell_type": "code",
   "execution_count": null,
   "metadata": {},
   "outputs": [],
   "source": [
    "for key in test_objects:\n",
    "    print(test_objects[key][1][0][1])"
   ]
  },
  {
   "cell_type": "code",
   "execution_count": null,
   "metadata": {},
   "outputs": [],
   "source": [
    "test_connections"
   ]
  },
  {
   "cell_type": "markdown",
   "metadata": {},
   "source": [
    "# Object Parameters"
   ]
  },
  {
   "cell_type": "code",
   "execution_count": null,
   "metadata": {},
   "outputs": [],
   "source": [
    "example_objects = {}\n",
    "for key in objects:\n",
    "    if objects[key][0] not in example_objects.keys():\n",
    "        example_objects[objects[key][0]] = objects[key]\n",
    "    "
   ]
  },
  {
   "cell_type": "code",
   "execution_count": null,
   "metadata": {},
   "outputs": [],
   "source": [
    "example_objects['cedar.processing.ComponentMultiply']"
   ]
  },
  {
   "cell_type": "code",
   "execution_count": null,
   "metadata": {},
   "outputs": [],
   "source": [
    "objects['Static Gain 23']"
   ]
  }
 ],
 "metadata": {
  "kernelspec": {
   "display_name": "Python 3",
   "language": "python",
   "name": "python3"
  },
  "language_info": {
   "codemirror_mode": {
    "name": "ipython",
    "version": 3
   },
   "file_extension": ".py",
   "mimetype": "text/x-python",
   "name": "python",
   "nbconvert_exporter": "python",
   "pygments_lexer": "ipython3",
   "version": "3.7.3"
  }
 },
 "nbformat": 4,
 "nbformat_minor": 2
}
