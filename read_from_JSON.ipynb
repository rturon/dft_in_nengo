{
 "cells": [
  {
   "cell_type": "code",
   "execution_count": 1,
   "metadata": {},
   "outputs": [],
   "source": [
    "from read_json import load_from_json"
   ]
  },
  {
   "cell_type": "code",
   "execution_count": 2,
   "metadata": {},
   "outputs": [
    {
     "name": "stdout",
     "output_type": "stream",
     "text": [
      "ComponentMultiply does not have 2 inputs, but 0!\n",
      "Source is a CM object: Component Multiply 29\n",
      "[('name', 'Component Multiply 29'), ('comments', ''), ('inp size1', ['50', '50']), ('inp size2', ['50', '50'])]\n",
      "Input size 1 and 2: ['50', '50'] ['50', '50']\n",
      "Used as output size: ['50', '50'] \n",
      "\n",
      "Source is a CM object: Component Multiply 30\n",
      "[('name', 'Component Multiply 30'), ('comments', ''), ('inp size1', ['50', '50']), ('inp size2', ['50', '50'])]\n",
      "Input size 1 and 2: ['50', '50'] ['50', '50']\n",
      "Used as output size: ['50', '50'] \n",
      "\n",
      "Source is a CM object: Component Multiply 33\n",
      "[('name', 'Component Multiply 33'), ('comments', ''), ('inp size1', ['50', '50']), ('inp size2', ['50', '50'])]\n",
      "Input size 1 and 2: ['50', '50'] ['50', '50']\n",
      "Used as output size: ['50', '50'] \n",
      "\n",
      "Source is a CM object: Component Multiply 35\n",
      "[('name', 'Component Multiply 35'), ('comments', ''), ('inp size1', ['50', '50']), ('inp size2', ['50', '50'])]\n",
      "Input size 1 and 2: ['50', '50'] ['50', '50']\n",
      "Used as output size: ['50', '50'] \n",
      "\n",
      "Source is a CM object: Component Multiply 36\n",
      "[('name', 'Component Multiply 36'), ('comments', ''), ('inp size1', ['50', '50']), ('inp size2', ['50', '50'])]\n",
      "Input size 1 and 2: ['50', '50'] ['50', '50']\n",
      "Used as output size: ['50', '50'] \n",
      "\n",
      "Source is a CM object: Component Multiply 38\n",
      "[('name', 'Component Multiply 38'), ('comments', ''), ('inp size1', ['50', '50']), ('inp size2', ['50', '50'])]\n",
      "Input size 1 and 2: ['50', '50'] ['50', '50']\n",
      "Used as output size: ['50', '50'] \n",
      "\n",
      "Source is a CM object: Component Multiply 39\n",
      "[('name', 'Component Multiply 39'), ('comments', ''), ('inp size1', ['50', '50']), ('inp size2', ['50', '50'])]\n",
      "Input size 1 and 2: ['50', '50'] ['50', '50']\n",
      "Used as output size: ['50', '50'] \n",
      "\n",
      "Source is a CM object: Component Multiply 41\n",
      "[('name', 'Component Multiply 41'), ('comments', ''), ('inp size1', ['50', '50']), ('inp size2', ['50', '50'])]\n",
      "Input size 1 and 2: ['50', '50'] ['50', '50']\n",
      "Used as output size: ['50', '50'] \n",
      "\n",
      "Source is a CM object: Component Multiply 42\n",
      "[('name', 'Component Multiply 42'), ('comments', ''), ('inp size1', ['50', '50']), ('inp size2', ['50', '50'])]\n",
      "Input size 1 and 2: ['50', '50'] ['50', '50']\n",
      "Used as output size: ['50', '50'] \n",
      "\n",
      "Source is a CM object: Component Multiply 45\n",
      "[('name', 'Component Multiply 45'), ('comments', ''), ('inp size1', ['50', '50']), ('inp size2', ['50', '50'])]\n",
      "Input size 1 and 2: ['50', '50'] ['50', '50']\n",
      "Used as output size: ['50', '50'] \n",
      "\n",
      "Source is a CM object: Component Multiply 47\n",
      "[('name', 'Component Multiply 47'), ('comments', ''), ('inp size1', ['50', '50']), ('inp size2', ['50', '50'])]\n",
      "Input size 1 and 2: ['50', '50'] ['50', '50']\n",
      "Used as output size: ['50', '50'] \n",
      "\n",
      "Source is a CM object: Component Multiply 48\n",
      "[('name', 'Component Multiply 48'), ('comments', ''), ('inp size1', ['50', '50']), ('inp size2', ['50', '50'])]\n",
      "Input size 1 and 2: ['50', '50'] ['50', '50']\n",
      "Used as output size: ['50', '50'] \n",
      "\n",
      "Source is a CM object: Component Multiply 50\n",
      "[('name', 'Component Multiply 50'), ('comments', ''), ('inp size1', ['50', '50']), ('inp size2', ['50', '50'])]\n",
      "Input size 1 and 2: ['50', '50'] ['50', '50']\n",
      "Used as output size: ['50', '50'] \n",
      "\n",
      "Source is a CM object: Component Multiply 51\n",
      "[('name', 'Component Multiply 51'), ('comments', ''), ('inp size1', ['50', '50']), ('inp size2', ['50', '50'])]\n",
      "Input size 1 and 2: ['50', '50'] ['50', '50']\n",
      "Used as output size: ['50', '50'] \n",
      "\n",
      "Source is a CM object: Component Multiply 26\n",
      "[('name', 'Component Multiply 26'), ('comments', ''), ('inp size1', ['50', '50']), ('inp size2', '')]\n",
      "Input size 1 and 2: ['50', '50'] \n",
      "Used as output size: ['50', '50'] \n",
      "\n",
      "Source is a CM object: Component Multiply 16\n",
      "[('name', 'Component Multiply 16'), ('comments', ''), ('inp size1', ['50', '50']), ('inp size2', ['50', '50'])]\n",
      "Input size 1 and 2: ['50', '50'] ['50', '50']\n",
      "Used as output size: ['50', '50'] \n",
      "\n",
      "Source is a CM object: Component Multiply 23\n",
      "[('name', 'Component Multiply 23'), ('comments', ''), ('inp size1', ['50']), ('inp size2', ['50'])]\n",
      "Input size 1 and 2: ['50'] ['50']\n",
      "Used as output size: ['50'] \n",
      "\n",
      "Source is a CM object: Component Multiply 17\n",
      "[('name', 'Component Multiply 17'), ('comments', ''), ('inp size1', ['50', '50']), ('inp size2', ['50', '50'])]\n",
      "Input size 1 and 2: ['50', '50'] ['50', '50']\n",
      "Used as output size: ['50', '50'] \n",
      "\n",
      "Source is a CM object: Component Multiply 18\n",
      "[('name', 'Component Multiply 18'), ('comments', ''), ('inp size1', ['50', '50']), ('inp size2', ['50', '50'])]\n",
      "Input size 1 and 2: ['50', '50'] ['50', '50']\n",
      "Used as output size: ['50', '50'] \n",
      "\n",
      "Source is a CM object: Component Multiply 4\n",
      "[('name', 'Component Multiply 4'), ('comments', ''), ('inp size1', ['50', '50']), ('inp size2', '')]\n",
      "Input size 1 and 2: ['50', '50'] \n",
      "Used as output size: ['50', '50'] \n",
      "\n",
      "Source is a CM object: Component Multiply 19\n",
      "[('name', 'Component Multiply 19'), ('comments', ''), ('inp size1', ['50', '50']), ('inp size2', ['50', '50'])]\n",
      "Input size 1 and 2: ['50', '50'] ['50', '50']\n",
      "Used as output size: ['50', '50'] \n",
      "\n",
      "Source is a CM object: Component Multiply 24\n",
      "[('name', 'Component Multiply 24'), ('comments', ''), ('inp size1', ['50']), ('inp size2', ['50'])]\n",
      "Input size 1 and 2: ['50'] ['50']\n",
      "Used as output size: ['50'] \n",
      "\n",
      "Source is a CM object: Component Multiply 21\n",
      "[('name', 'Component Multiply 21'), ('comments', ''), ('inp size1', ['50']), ('inp size2', ['50'])]\n",
      "Input size 1 and 2: ['50'] ['50']\n",
      "Used as output size: ['50'] \n",
      "\n",
      "Source is a CM object: Component Multiply 22\n",
      "[('name', 'Component Multiply 22'), ('comments', ''), ('inp size1', ['50']), ('inp size2', ['50'])]\n",
      "Input size 1 and 2: ['50'] ['50']\n",
      "Used as output size: ['50'] \n",
      "\n",
      "Source is a CM object: Component Multiply 25\n",
      "[('name', 'Component Multiply 25'), ('comments', ''), ('inp size1', ['50']), ('inp size2', ['50'])]\n",
      "Input size 1 and 2: ['50'] ['50']\n",
      "Used as output size: ['50'] \n",
      "\n",
      "Source is a CM object: Component Multiply 27\n",
      "[('name', 'Component Multiply 27'), ('comments', ''), ('inp size1', ['50', '50']), ('inp size2', '')]\n",
      "Input size 1 and 2: ['50', '50'] \n",
      "Used as output size: ['50', '50'] \n",
      "\n",
      "Source is a CM object: Component Multiply 28\n",
      "[('name', 'Component Multiply 28'), ('comments', ''), ('inp size1', ['50', '50']), ('inp size2', '')]\n",
      "Input size 1 and 2: ['50', '50'] \n",
      "Used as output size: ['50', '50'] \n",
      "\n",
      "Source is a CM object: Component Multiply 31\n",
      "[('name', 'Component Multiply 31'), ('comments', ''), ('inp size1', ['50', '50']), ('inp size2', ['50', '50'])]\n",
      "Input size 1 and 2: ['50', '50'] ['50', '50']\n",
      "Used as output size: ['50', '50'] \n",
      "\n",
      "Source is a CM object: Component Multiply 37\n",
      "[('name', 'Component Multiply 37'), ('comments', ''), ('inp size1', ['50', '50']), ('inp size2', ['50', '50'])]\n",
      "Input size 1 and 2: ['50', '50'] ['50', '50']\n",
      "Used as output size: ['50', '50'] \n",
      "\n",
      "Source is a CM object: Component Multiply 40\n",
      "[('name', 'Component Multiply 40'), ('comments', ''), ('inp size1', ['50', '50']), ('inp size2', ['50', '50'])]\n",
      "Input size 1 and 2: ['50', '50'] ['50', '50']\n",
      "Used as output size: ['50', '50'] \n",
      "\n",
      "Source is a CM object: Component Multiply 43\n",
      "[('name', 'Component Multiply 43'), ('comments', ''), ('inp size1', ['50', '50']), ('inp size2', ['50', '50'])]\n",
      "Input size 1 and 2: ['50', '50'] ['50', '50']\n",
      "Used as output size: ['50', '50'] \n",
      "\n",
      "Source is a CM object: Component Multiply 3\n",
      "[('name', 'Component Multiply 3'), ('comments', ''), ('inp size1', ''), ('inp size2', ['50', '50'])]\n",
      "Input size 1 and 2:  ['50', '50']\n",
      "Used as output size: ['50', '50'] \n",
      "\n",
      "Source is a CM object: Component Multiply\n",
      "[('name', 'Component Multiply'), ('comments', ''), ('inp size1', ''), ('inp size2', ['50', '50'])]\n",
      "Input size 1 and 2:  ['50', '50']\n",
      "Used as output size: ['50', '50'] \n",
      "\n",
      "Source is a CM object: Component Multiply 11\n",
      "[('name', 'Component Multiply 11'), ('comments', ''), ('inp size1', ''), ('inp size2', ['50', '50'])]\n",
      "Input size 1 and 2:  ['50', '50']\n",
      "Used as output size: ['50', '50'] \n",
      "\n",
      "Source is a CM object: Component Multiply 12\n",
      "[('name', 'Component Multiply 12'), ('comments', ''), ('inp size1', ''), ('inp size2', ['50', '50'])]\n",
      "Input size 1 and 2:  ['50', '50']\n",
      "Used as output size: ['50', '50'] \n",
      "\n",
      "The object Static Gain 23 does not have a source!\n",
      "Source is a CM object: Component Multiply 32\n",
      "[('name', 'Component Multiply 32'), ('comments', ''), ('inp size1', ['50', '50']), ('inp size2', '')]\n",
      "Input size 1 and 2: ['50', '50'] \n",
      "Used as output size: ['50', '50'] \n",
      "\n",
      "Source is a CM object: Component Multiply 44\n",
      "[('name', 'Component Multiply 44'), ('comments', ''), ('inp size1', ''), ('inp size2', ['50', '50'])]\n",
      "Input size 1 and 2:  ['50', '50']\n",
      "Used as output size: ['50', '50'] \n",
      "\n",
      "Source is a CM object: Component Multiply 49\n",
      "[('name', 'Component Multiply 49'), ('comments', ''), ('inp size1', ['50', '50']), ('inp size2', '')]\n",
      "Input size 1 and 2: ['50', '50'] \n",
      "Used as output size: ['50', '50'] \n",
      "\n",
      "Source is a CM object: Component Multiply 52\n",
      "[('name', 'Component Multiply 52'), ('comments', ''), ('inp size1', ['50', '50']), ('inp size2', '')]\n",
      "Input size 1 and 2: ['50', '50'] \n",
      "Used as output size: ['50', '50'] \n",
      "\n"
     ]
    }
   ],
   "source": [
    "objects, connections = load_from_json('./JSON/mental_imagery_extended.json')"
   ]
  },
  {
   "cell_type": "code",
   "execution_count": 3,
   "metadata": {
    "scrolled": false
   },
   "outputs": [
    {
     "name": "stdout",
     "output_type": "stream",
     "text": [
      "Number of cedar.dynamics.NeuralField: 90\n",
      "Number of cedar.processing.sources.Boost: 23\n",
      "Number of cedar.processing.ComponentMultiply: 52\n",
      "Number of cedar.processing.sources.ConstMatrix: 8\n",
      "Number of cedar.processing.steps.Convolution: 4\n",
      "Number of cedar.processing.Flip: 4\n",
      "Number of cedar.processing.sources.GaussInput: 16\n",
      "Number of cedar.processing.Projection: 38\n",
      "Number of cedar.processing.sources.SpatialTemplate: 24\n",
      "Number of cedar.processing.StaticGain: 166\n"
     ]
    }
   ],
   "source": [
    "# check if I have all objects now by checking if the numbers are the same as\n",
    "# in the json file\n",
    "object_counts = {}\n",
    "\n",
    "for key in objects:\n",
    "    if objects[key][0] not in object_counts.keys():\n",
    "        object_counts[objects[key][0]] = 1\n",
    "    else:\n",
    "        object_counts[objects[key][0]] += 1\n",
    "        \n",
    "for key in object_counts:\n",
    "    print('Number of %s: %i' %(key, object_counts[key]))\n",
    "\n",
    "# --> Numbers check out"
   ]
  },
  {
   "cell_type": "markdown",
   "metadata": {},
   "source": [
    "# Test simpler JSON file\n",
    "To be sure that everything works correctly I added a small test architecture to the JSON files. It includes all scenarios of different group input and output connections, but with only a few objects to stay on top of things. "
   ]
  },
  {
   "cell_type": "code",
   "execution_count": 4,
   "metadata": {
    "scrolled": false
   },
   "outputs": [],
   "source": [
    "test_objects, test_connections = load_from_json('./JSON/test_architecture.json')"
   ]
  },
  {
   "cell_type": "code",
   "execution_count": 5,
   "metadata": {},
   "outputs": [
    {
     "name": "stdout",
     "output_type": "stream",
     "text": [
      "Flip\n",
      "Linear Spatial Template\n",
      "Projection\n",
      "Projection 2\n",
      "Spatial Template\n",
      "Group 1.Component Multiply\n",
      "Group 1.Neural Field\n",
      "Group 1.Static Gain\n",
      "Group 2.Gauss Input\n",
      "Group 2.Neural Field 2\n"
     ]
    }
   ],
   "source": [
    "for key in test_objects:\n",
    "    print(test_objects[key][1][0][1])"
   ]
  },
  {
   "cell_type": "code",
   "execution_count": 6,
   "metadata": {},
   "outputs": [
    {
     "data": {
      "text/plain": [
       "[[('source', 'Group 1.Static Gain.output'), ('target', 'Flip.input')],\n",
       " [('source', 'Group 2.Neural Field 2.sigmoided activation'),\n",
       "  ('target', 'Projection.input')],\n",
       " [('source', 'Group 2.Neural Field 2.sigmoided activation'),\n",
       "  ('target', 'Projection 2.input')],\n",
       " [('source', 'Linear Spatial Template.spatial pattern'),\n",
       "  ('target', 'Group 1.Component Multiply.operands')],\n",
       " [('source', 'Spatial Template.spatial pattern'),\n",
       "  ('target', 'Group 1.Component Multiply.operands')],\n",
       " [('source', 'Spatial Template.spatial pattern'),\n",
       "  ('target', 'Group 1.Static Gain.input')],\n",
       " [('source', 'Group 1.Neural Field.sigmoided activation'),\n",
       "  ('target', 'Group 2.Neural Field 2.input')],\n",
       " [('source', 'Group 1.Component Multiply.product'),\n",
       "  ('target', 'Group 1.Neural Field.input')],\n",
       " [('source', 'Group 1.Static Gain.output'),\n",
       "  ('target', 'Group 1.Neural Field.input')],\n",
       " [('source', 'Group 2.Gauss Input.Gauss input'),\n",
       "  ('target', 'Group 2.Neural Field 2.input')]]"
      ]
     },
     "execution_count": 6,
     "metadata": {},
     "output_type": "execute_result"
    }
   ],
   "source": [
    "test_connections"
   ]
  },
  {
   "cell_type": "markdown",
   "metadata": {},
   "source": [
    "# Object Parameters"
   ]
  },
  {
   "cell_type": "code",
   "execution_count": 7,
   "metadata": {},
   "outputs": [],
   "source": [
    "example_objects = {}\n",
    "for key in objects:\n",
    "    if objects[key][0] not in example_objects.keys():\n",
    "        example_objects[objects[key][0]] = objects[key]\n",
    "    "
   ]
  },
  {
   "cell_type": "code",
   "execution_count": 8,
   "metadata": {},
   "outputs": [
    {
     "data": {
      "text/plain": [
       "('cedar.processing.steps.Convolution',\n",
       " [('name', 'Convolution'),\n",
       "  ('kernels', ''),\n",
       "  ('convolution',\n",
       "   [('borderType', 'Zero'),\n",
       "    ('mode', 'Same'),\n",
       "    ('engine', [('type', 'cedar.aux.conv.OpenCV')]),\n",
       "    ('alternate even kernel center', 'false')]),\n",
       "  ('comments', ''),\n",
       "  ('sizes', ['50', '50'])])"
      ]
     },
     "execution_count": 8,
     "metadata": {},
     "output_type": "execute_result"
    }
   ],
   "source": [
    "example_objects['cedar.processing.steps.Convolution']"
   ]
  },
  {
   "cell_type": "code",
   "execution_count": 9,
   "metadata": {},
   "outputs": [],
   "source": [
    "# objects['Target']"
   ]
  },
  {
   "cell_type": "code",
   "execution_count": null,
   "metadata": {},
   "outputs": [],
   "source": []
  },
  {
   "cell_type": "code",
   "execution_count": 10,
   "metadata": {},
   "outputs": [],
   "source": [
    "import parse_cedar_objects as parser"
   ]
  },
  {
   "cell_type": "code",
   "execution_count": 11,
   "metadata": {},
   "outputs": [
    {
     "name": "stdout",
     "output_type": "stream",
     "text": [
      "ConstantMatrix with params: \n",
      " name: Const Matrix \n",
      " sizes: [50, 50] \n",
      " value: 42\n",
      "\n",
      "Flip with params: \n",
      " name: Flip \n",
      " sizes: [50, 50] \n",
      " flip dimensions:  [True, True]\n",
      "\n",
      "GaussInput with params: \n",
      " name: Gauss Input 10 \n",
      " sizes: [50] \n",
      " centers:  [25.0] \n",
      " sigmas: [1.5] \n",
      " amplitude: 8.8\n",
      "\n",
      "Projection with params: \n",
      " name: Projection \n",
      " sizes_in: [50, 50, 50] \n",
      " sizes_out: [50, 50] \n",
      " compression_type: max \n",
      " dimension_mapping: {'0': 0, '1': 1, '2': False}\n",
      "\n",
      "SpatialTemplate with params: \n",
      " name: Spatial Template \n",
      " sizes: [50, 50] \n",
      " invert_sides: True \n",
      " horizontal_pattern: True \n",
      " sigma_th_hor: 0.25 \n",
      " mu_r: 1.1 \n",
      " sigma_r: 3.0 \n",
      " sigma_sigmoid_fw: 0.0\n",
      "\n",
      "StaticGain with params: \n",
      " name: Static Gain \n",
      " sizes: [50, 50] \n",
      " gain_factor: 5.0\n",
      "\n",
      "ComponentMultiply with params: \n",
      " name: Component Multiply \n",
      " inp_size1: [] \n",
      " inp_size2: [50, 50]\n",
      "\n",
      "Convolution with params: \n",
      " name: Convolution \n",
      " sizes: [50, 50] \n",
      " border_type: zero-filled borders\n"
     ]
    }
   ],
   "source": [
    "parser.const_matrix_parser(example_objects['cedar.processing.sources.ConstMatrix'])\n",
    "print()\n",
    "parser.flip_parser(example_objects['cedar.processing.Flip'])\n",
    "print()\n",
    "parser.gauss_input_parser(example_objects['cedar.processing.sources.GaussInput'])\n",
    "print()\n",
    "parser.projection_parser(example_objects['cedar.processing.Projection'])\n",
    "print()\n",
    "parser.spatial_template_parser(example_objects['cedar.processing.sources.SpatialTemplate'])\n",
    "print()\n",
    "parser.static_gain_parser(example_objects['cedar.processing.StaticGain'])\n",
    "print()\n",
    "parser.component_multiply_parser(example_objects['cedar.processing.ComponentMultiply'])\n",
    "print()\n",
    "parser.convolution_parser(example_objects['cedar.processing.steps.Convolution'])"
   ]
  },
  {
   "cell_type": "code",
   "execution_count": 12,
   "metadata": {},
   "outputs": [
    {
     "name": "stdout",
     "output_type": "stream",
     "text": [
      "('sigmoid', [('type', 'cedar.aux.math.AbsSigmoid'), ('threshold', '0'), ('beta', '100')])\n",
      "Neural Field with params: \n",
      " name: Above Memory \n",
      " sizes: [] \n",
      " h: -5.0 \n",
      " tau: 100.0 \n",
      " c_glob: -0.01 \n",
      " border_type: zero-filled borders \n",
      " input_noise_gain: 0.1 \n",
      " kernel: <cedar_modules.BoxKernel object at 0x7fc6119d6978> \n",
      " nonlinearity: <cedar_modules.AbsSigmoid object at 0x7fc6119d6b00>\n"
     ]
    }
   ],
   "source": [
    "parser.neural_field_parser(example_objects['cedar.dynamics.NeuralField'])"
   ]
  }
 ],
 "metadata": {
  "kernelspec": {
   "display_name": "Python 3",
   "language": "python",
   "name": "python3"
  },
  "language_info": {
   "codemirror_mode": {
    "name": "ipython",
    "version": 3
   },
   "file_extension": ".py",
   "mimetype": "text/x-python",
   "name": "python",
   "nbconvert_exporter": "python",
   "pygments_lexer": "ipython3",
   "version": "3.7.3"
  }
 },
 "nbformat": 4,
 "nbformat_minor": 2
}
