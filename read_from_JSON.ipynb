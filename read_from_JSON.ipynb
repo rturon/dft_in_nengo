{
 "cells": [
  {
   "cell_type": "code",
   "execution_count": 1,
   "metadata": {},
   "outputs": [],
   "source": [
    "from json import JSONDecoder\n",
    "from read_json import read_JSON_as_list, fetch_objects, fetch_connections"
   ]
  },
  {
   "cell_type": "code",
   "execution_count": 2,
   "metadata": {},
   "outputs": [],
   "source": [
    "def read_JSON_as_list(filename):\n",
    "    def parse_pairs(pairs):\n",
    "        return pairs\n",
    "\n",
    "    decoder = JSONDecoder(object_pairs_hook=parse_pairs)\n",
    "    with open(filename) as json_file:\n",
    "        file_content = json_file.read()\n",
    "        data = decoder.decode(file_content)\n",
    "        \n",
    "    return data"
   ]
  },
  {
   "cell_type": "code",
   "execution_count": 3,
   "metadata": {},
   "outputs": [],
   "source": [
    "data = read_JSON_as_list('./JSON/mental_imagery_extended.json')"
   ]
  },
  {
   "cell_type": "code",
   "execution_count": 5,
   "metadata": {},
   "outputs": [],
   "source": [
    "# objects = get_all_objects(data)\n",
    "objects = fetch_objects(data)"
   ]
  },
  {
   "cell_type": "code",
   "execution_count": 6,
   "metadata": {},
   "outputs": [
    {
     "name": "stdout",
     "output_type": "stream",
     "text": [
      "cedar.dynamics.NeuralField \n",
      "\n",
      "[('name', 'Above Memory'), ('activation as output', 'false'), ('discrete metric (workaround)', 'false'), ('update stepIcon according to output', 'true'), ('threshold for updating the stepIcon', '0.80000000000000004'), ('dimensionality', '0'), ('sizes', ''), ('time scale', '100'), ('resting level', '-5'), ('input noise gain', '0.10000000000000001'), ('sigmoid', [('type', 'cedar.aux.math.AbsSigmoid'), ('threshold', '0'), ('beta', '100')]), ('global inhibition', '-0.01'), ('lateral kernels', [('cedar.aux.kernel.Box', [('dimensionality', '1'), ('anchor', ['0']), ('amplitude', '6.0999999999999996'), ('widths', ['2'])])]), ('lateral kernel convolution', [('borderType', 'Zero'), ('mode', 'Same'), ('engine', [('type', 'cedar.aux.conv.OpenCV')]), ('alternate even kernel center', 'false')]), ('noise correlation kernel', [('dimensionality', '1'), ('anchor', ['0']), ('amplitude', '0'), ('sigmas', ['3']), ('normalize', 'true'), ('shifts', ['0']), ('limit', '5')]), ('comments', '')] \n",
      "\n"
     ]
    }
   ],
   "source": [
    "''' \n",
    "data[1][1] has the value for 'steps' --> a list of the different objects \n",
    "(except for the ones in groups)\n",
    "e.g. data[1][1][0] is a NeuralField, its first element is the type of object,\n",
    "i.e. in this case the string 'cedar.dynamics.NeuralField', its second element\n",
    "contains the parameters and their values\n",
    "'''\n",
    "\n",
    "print(objects[0][0], \"\\n\")\n",
    "\n",
    "print(objects[0][1], \"\\n\")"
   ]
  },
  {
   "cell_type": "code",
   "execution_count": 7,
   "metadata": {
    "scrolled": false
   },
   "outputs": [
    {
     "name": "stdout",
     "output_type": "stream",
     "text": [
      "Number of cedar.dynamics.NeuralField: 90\n",
      "Number of cedar.processing.sources.Boost: 23\n",
      "Number of cedar.processing.ComponentMultiply: 52\n",
      "Number of cedar.processing.sources.ConstMatrix: 8\n",
      "Number of cedar.processing.steps.Convolution: 4\n",
      "Number of cedar.processing.Flip: 4\n",
      "Number of cedar.processing.sources.GaussInput: 16\n",
      "Number of cedar.processing.Projection: 38\n",
      "Number of cedar.processing.sources.SpatialTemplate: 24\n",
      "Number of cedar.processing.StaticGain: 166\n"
     ]
    }
   ],
   "source": [
    "# check if I have all objects now by checking if the numbers are the same as\n",
    "# in the json file\n",
    "object_counts = {}\n",
    "\n",
    "for obj in objects:\n",
    "    if obj[0] not in object_counts.keys():\n",
    "        object_counts[obj[0]] = 1\n",
    "    else:\n",
    "        object_counts[obj[0]] += 1\n",
    "        \n",
    "for key in object_counts:\n",
    "    print('Number of %s: %i' %(key, object_counts[key]))\n",
    "\n",
    "# --> Numbers check out"
   ]
  },
  {
   "cell_type": "markdown",
   "metadata": {},
   "source": [
    "# Get all connections\n",
    "For the groups the connections to and from the input nodes of the groups and output nodes of the groups have to be handled seperately, since these should be replaced by direct connections between the instances.\n",
    "\n",
    "The names of the input and output nodes for groups are in the group element \"connectors\". If they have the value \"true\" they are input nodes, if the have the value \"false\" they are output nodes. In connections to input nodes of a group the target name is of the form: group_name.input_node_name\n"
   ]
  },
  {
   "cell_type": "code",
   "execution_count": 10,
   "metadata": {
    "scrolled": true
   },
   "outputs": [],
   "source": [
    "all_connections = fetch_connections(data)"
   ]
  },
  {
   "cell_type": "code",
   "execution_count": 15,
   "metadata": {},
   "outputs": [
    {
     "data": {
      "text/plain": [
       "669"
      ]
     },
     "execution_count": 15,
     "metadata": {},
     "output_type": "execute_result"
    }
   ],
   "source": [
    "len(all_connections)"
   ]
  },
  {
   "cell_type": "markdown",
   "metadata": {},
   "source": [
    "# Test simpler JSON file\n",
    "To be sure that everything works correctly I added a small test architecture to the JSON files. It includes all scenarios of different group input and output connections, but with only a few objects to stay on top of things. "
   ]
  },
  {
   "cell_type": "code",
   "execution_count": 16,
   "metadata": {
    "scrolled": false
   },
   "outputs": [],
   "source": [
    "test_arc = read_JSON_as_list('./JSON/test_architecture.json')\n",
    "test_objects = fetch_objects(test_arc)\n",
    "test_connections = fetch_connections(test_arc)"
   ]
  },
  {
   "cell_type": "code",
   "execution_count": 17,
   "metadata": {},
   "outputs": [
    {
     "name": "stdout",
     "output_type": "stream",
     "text": [
      "Linear Spatial Template\n",
      "Projection\n",
      "Projection 2\n",
      "Spatial Template\n",
      "Group 1.Component Multiply\n",
      "Group 1.Neural Field\n",
      "Group 1.Static Gain\n",
      "Group 2.Gauss Input\n",
      "Group 2.Neural Field 2\n"
     ]
    }
   ],
   "source": [
    "for obj in test_objects:\n",
    "    print(obj[1][0][1])"
   ]
  },
  {
   "cell_type": "code",
   "execution_count": 18,
   "metadata": {},
   "outputs": [
    {
     "data": {
      "text/plain": [
       "[[('source', 'Group 2.Neural Field 2.sigmoided activation'),\n",
       "  ('target', 'Projection.input')],\n",
       " [('source', 'Group 2.Neural Field 2.sigmoided activation'),\n",
       "  ('target', 'Projection 2.input')],\n",
       " [('source', 'Linear Spatial Template.spatial pattern'),\n",
       "  ('target', 'Group 1.Component Multiply.operands')],\n",
       " [('source', 'Spatial Template.spatial pattern'),\n",
       "  ('target', 'Group 1.Component Multiply.operands')],\n",
       " [('source', 'Spatial Template.spatial pattern'),\n",
       "  ('target', 'Group 1.Static Gain.input')],\n",
       " [('source', 'Group 1.Neural Field.sigmoided activation'),\n",
       "  ('target', 'Group 2.Neural Field 2.input')],\n",
       " [('source', 'Group 1.Component Multiply.product'),\n",
       "  ('target', 'Group 1.Neural Field.input')],\n",
       " [('source', 'Group 1.Static Gain.output'),\n",
       "  ('target', 'Group 1.Neural Field.input')],\n",
       " [('source', 'Group 2.Gauss Input.Gauss input'),\n",
       "  ('target', 'Group 2.Neural Field 2.input')]]"
      ]
     },
     "execution_count": 18,
     "metadata": {},
     "output_type": "execute_result"
    }
   ],
   "source": [
    "test_connections"
   ]
  }
 ],
 "metadata": {
  "kernelspec": {
   "display_name": "Python 3",
   "language": "python",
   "name": "python3"
  },
  "language_info": {
   "codemirror_mode": {
    "name": "ipython",
    "version": 3
   },
   "file_extension": ".py",
   "mimetype": "text/x-python",
   "name": "python",
   "nbconvert_exporter": "python",
   "pygments_lexer": "ipython3",
   "version": "3.7.3"
  }
 },
 "nbformat": 4,
 "nbformat_minor": 2
}
