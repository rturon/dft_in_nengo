{
 "cells": [
  {
   "cell_type": "code",
   "execution_count": 1,
   "metadata": {},
   "outputs": [],
   "source": [
    "from json import JSONDecoder\n",
    "from read_json import read_JSON_as_list, fetch_objects, fetch_connections, load_from_json"
   ]
  },
  {
   "cell_type": "code",
   "execution_count": 2,
   "metadata": {},
   "outputs": [],
   "source": [
    "def read_JSON_as_list(filename):\n",
    "    def parse_pairs(pairs):\n",
    "        return pairs\n",
    "\n",
    "    decoder = JSONDecoder(object_pairs_hook=parse_pairs)\n",
    "    with open(filename) as json_file:\n",
    "        file_content = json_file.read()\n",
    "        data = decoder.decode(file_content)\n",
    "        \n",
    "    return data"
   ]
  },
  {
   "cell_type": "code",
   "execution_count": 3,
   "metadata": {},
   "outputs": [],
   "source": [
    "data = read_JSON_as_list('./JSON/mental_imagery_extended.json')"
   ]
  },
  {
   "cell_type": "code",
   "execution_count": 4,
   "metadata": {},
   "outputs": [],
   "source": [
    "# objects = get_all_objects(data)\n",
    "objects = fetch_objects(data)"
   ]
  },
  {
   "cell_type": "code",
   "execution_count": 5,
   "metadata": {
    "scrolled": false
   },
   "outputs": [
    {
     "name": "stdout",
     "output_type": "stream",
     "text": [
      "Number of cedar.dynamics.NeuralField: 90\n",
      "Number of cedar.processing.sources.Boost: 23\n",
      "Number of cedar.processing.ComponentMultiply: 52\n",
      "Number of cedar.processing.sources.ConstMatrix: 8\n",
      "Number of cedar.processing.steps.Convolution: 4\n",
      "Number of cedar.processing.Flip: 4\n",
      "Number of cedar.processing.sources.GaussInput: 16\n",
      "Number of cedar.processing.Projection: 38\n",
      "Number of cedar.processing.sources.SpatialTemplate: 24\n",
      "Number of cedar.processing.StaticGain: 166\n"
     ]
    }
   ],
   "source": [
    "# check if I have all objects now by checking if the numbers are the same as\n",
    "# in the json file\n",
    "object_counts = {}\n",
    "\n",
    "for key in objects:\n",
    "    if objects[key][0] not in object_counts.keys():\n",
    "        object_counts[objects[key][0]] = 1\n",
    "    else:\n",
    "        object_counts[objects[key][0]] += 1\n",
    "        \n",
    "for key in object_counts:\n",
    "    print('Number of %s: %i' %(key, object_counts[key]))\n",
    "\n",
    "# --> Numbers check out"
   ]
  },
  {
   "cell_type": "markdown",
   "metadata": {},
   "source": [
    "# Get all connections\n",
    "For the groups the connections to and from the input nodes of the groups and output nodes of the groups have to be handled seperately, since these should be replaced by direct connections between the instances.\n",
    "\n",
    "The names of the input and output nodes for groups are in the group element \"connectors\". If they have the value \"true\" they are input nodes, if the have the value \"false\" they are output nodes. In connections to input nodes of a group the target name is of the form: group_name.input_node_name\n"
   ]
  },
  {
   "cell_type": "code",
   "execution_count": 6,
   "metadata": {
    "scrolled": true
   },
   "outputs": [],
   "source": [
    "all_connections = fetch_connections(data)"
   ]
  },
  {
   "cell_type": "code",
   "execution_count": 7,
   "metadata": {},
   "outputs": [
    {
     "data": {
      "text/plain": [
       "669"
      ]
     },
     "execution_count": 7,
     "metadata": {},
     "output_type": "execute_result"
    }
   ],
   "source": [
    "len(all_connections)"
   ]
  },
  {
   "cell_type": "markdown",
   "metadata": {},
   "source": [
    "# Test simpler JSON file\n",
    "To be sure that everything works correctly I added a small test architecture to the JSON files. It includes all scenarios of different group input and output connections, but with only a few objects to stay on top of things. "
   ]
  },
  {
   "cell_type": "code",
   "execution_count": 8,
   "metadata": {
    "scrolled": false
   },
   "outputs": [],
   "source": [
    "test_arc = read_JSON_as_list('./JSON/test_architecture.json')\n",
    "test_objects = fetch_objects(test_arc)\n",
    "test_connections = fetch_connections(test_arc)"
   ]
  },
  {
   "cell_type": "code",
   "execution_count": 9,
   "metadata": {},
   "outputs": [
    {
     "name": "stdout",
     "output_type": "stream",
     "text": [
      "Flip\n",
      "Linear Spatial Template\n",
      "Projection\n",
      "Projection 2\n",
      "Spatial Template\n",
      "Group 1.Component Multiply\n",
      "Group 1.Neural Field\n",
      "Group 1.Static Gain\n",
      "Group 2.Gauss Input\n",
      "Group 2.Neural Field 2\n"
     ]
    }
   ],
   "source": [
    "for key in test_objects:\n",
    "    print(test_objects[key][1][0][1])"
   ]
  },
  {
   "cell_type": "code",
   "execution_count": 10,
   "metadata": {},
   "outputs": [
    {
     "data": {
      "text/plain": [
       "[[('source', 'Group 1.Static Gain.output'), ('target', 'Flip.input')],\n",
       " [('source', 'Group 2.Neural Field 2.sigmoided activation'),\n",
       "  ('target', 'Projection.input')],\n",
       " [('source', 'Group 2.Neural Field 2.sigmoided activation'),\n",
       "  ('target', 'Projection 2.input')],\n",
       " [('source', 'Linear Spatial Template.spatial pattern'),\n",
       "  ('target', 'Group 1.Component Multiply.operands')],\n",
       " [('source', 'Spatial Template.spatial pattern'),\n",
       "  ('target', 'Group 1.Component Multiply.operands')],\n",
       " [('source', 'Spatial Template.spatial pattern'),\n",
       "  ('target', 'Group 1.Static Gain.input')],\n",
       " [('source', 'Group 1.Neural Field.sigmoided activation'),\n",
       "  ('target', 'Group 2.Neural Field 2.input')],\n",
       " [('source', 'Group 1.Component Multiply.product'),\n",
       "  ('target', 'Group 1.Neural Field.input')],\n",
       " [('source', 'Group 1.Static Gain.output'),\n",
       "  ('target', 'Group 1.Neural Field.input')],\n",
       " [('source', 'Group 2.Gauss Input.Gauss input'),\n",
       "  ('target', 'Group 2.Neural Field 2.input')]]"
      ]
     },
     "execution_count": 10,
     "metadata": {},
     "output_type": "execute_result"
    }
   ],
   "source": [
    "test_connections"
   ]
  },
  {
   "cell_type": "markdown",
   "metadata": {},
   "source": [
    "#  load_from_json"
   ]
  },
  {
   "cell_type": "code",
   "execution_count": 16,
   "metadata": {},
   "outputs": [
    {
     "name": "stdout",
     "output_type": "stream",
     "text": [
      "The object Component Multiply 20 does not have a source!\n"
     ]
    }
   ],
   "source": [
    "o_test, c_test = load_from_json('./JSON/test_architecture.json')\n",
    "os, cs = load_from_json('./JSON/mental_imagery_extended.json')"
   ]
  }
 ],
 "metadata": {
  "kernelspec": {
   "display_name": "Python 3",
   "language": "python",
   "name": "python3"
  },
  "language_info": {
   "codemirror_mode": {
    "name": "ipython",
    "version": 3
   },
   "file_extension": ".py",
   "mimetype": "text/x-python",
   "name": "python",
   "nbconvert_exporter": "python",
   "pygments_lexer": "ipython3",
   "version": "3.7.3"
  }
 },
 "nbformat": 4,
 "nbformat_minor": 2
}
