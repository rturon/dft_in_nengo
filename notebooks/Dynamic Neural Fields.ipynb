{
 "cells": [
  {
   "cell_type": "code",
   "execution_count": 88,
   "metadata": {},
   "outputs": [
    {
     "data": {
      "text/html": [
       "<style>.container { width:100% !important; }</style>"
      ],
      "text/plain": [
       "<IPython.core.display.HTML object>"
      ]
     },
     "metadata": {},
     "output_type": "display_data"
    }
   ],
   "source": [
    "%matplotlib inline\n",
    "import matplotlib.pyplot as plt\n",
    "import numpy as np\n",
    "import nengo\n",
    "import scipy.signal\n",
    "from inputs import one_dimensional_peak, two_dimensional_peak, three_dimensional_peak\n",
    "from mpl_toolkits.axes_grid1 import make_axes_locatable\n",
    "import pandas as pd\n",
    "import seaborn\n",
    "\n",
    "from IPython.core.display import display, HTML\n",
    "display(HTML(\"<style>.container { width:100% !important; }</style>\"))"
   ]
  },
  {
   "cell_type": "code",
   "execution_count": 89,
   "metadata": {},
   "outputs": [],
   "source": [
    "class AbsSigmoid(object):\n",
    "    def __init__(self, beta=100, threshold=0):\n",
    "        self.beta = beta\n",
    "        self.threshold = threshold\n",
    "    def __call__(self, x):\n",
    "        return 0.5 * (1 + self.beta * (x-self.threshold) / (1 + self.beta * np.abs(x-self.threshold)))\n",
    "    \n",
    "class ExpSigmoid(object):\n",
    "    def __init__(self, beta=100):\n",
    "        self.beta = beta\n",
    "    def __call__(self, x):\n",
    "        return 1 / (1 + np.exp(- self.beta * x))\n",
    "\n",
    "class GaussKernel(object):\n",
    "    def __init__(self, c, sigma, normalize=True, dims=2):\n",
    "        self.c = c\n",
    "        self.sigma = sigma\n",
    "        self.normalize = normalize\n",
    "        self.kernel_width = int(np.ceil(sigma*5)) # limit is always 5 \n",
    "        # kernel width should always be an odd number --> like that in cedar\n",
    "        if self.kernel_width % 2 == 0:\n",
    "            self.kernel_width += 1\n",
    "        self.dims = dims\n",
    "        \n",
    "        x = np.arange(self.kernel_width)\n",
    "        cx = self.kernel_width//2\n",
    "        \n",
    "        if self.dims == 1 or self.dims == 0:\n",
    "            dx = np.abs(x - cx)\n",
    "            \n",
    "        elif self.dims == 2:\n",
    "            grid_x, grid_y = np.meshgrid(x, x)\n",
    "            dx = np.sqrt((grid_x - cx)**2 + (grid_y - cx)**2)\n",
    "         \n",
    "        elif self.dims == 3:\n",
    "            grid_x, grid_y, grid_z = np.meshgrid(x, x, x)\n",
    "            dx = np.sqrt((grid_x - cx)**2 + (grid_y - cx)**2 + (grid_z - cx)**2)\n",
    "            \n",
    "        kernel_matrix = np.exp(-dx**2 / (2*self.sigma**2))\n",
    "        if self.normalize:\n",
    "            kernel_matrix /= np.sum(kernel_matrix)\n",
    "        self.kernel_matrix = self.c * kernel_matrix\n",
    "        \n",
    "        # if the kernel is 0-dimensional it only consists of the central scalar value\n",
    "        # need to compute from 1-dimensional kernel for normalizaton to work correctly\n",
    "        if self.dims == 0:\n",
    "            self.kernel_matrix = self.kernel_matrix[cx]\n",
    "            \n",
    "    def __call__(self):\n",
    "        return self.kernel_matrix\n",
    "    \n",
    "    \n",
    "class BoxKernel(object):\n",
    "    ''' Implementation of the BoxKernel of cedar.\n",
    "        Since the BoxKernel is only used with 0-dimensional fields in the \n",
    "        architecture this is a simplified implementation of the BoxKernel\n",
    "        without the width parameter which is only needed for 1- or higher \n",
    "        dimensional fields.\n",
    "    '''\n",
    "    def __init__(self, amplitude):\n",
    "        # dimensionality of BoxKernel always 0\n",
    "        self.dims = 0 \n",
    "        self.amplitude = amplitude\n",
    "        self.kernel_matrix = amplitude\n",
    "        \n",
    "    def __call__(self):\n",
    "        return self.kernel_matrix\n",
    "    \n",
    "    \n",
    "def pad_and_convolve(inp, kernel, border):\n",
    "    \n",
    "    # test if input consists of more than one number, i.e. field not 0-dimensional\n",
    "    if inp.shape != ():\n",
    "        # compute padding values\n",
    "        kernel_width = kernel.shape[0]\n",
    "        pad_width_f = kernel_width//2\n",
    "        pad_width_b = kernel_width//2 if kernel_width % 2 == 1 else kernel_width//2 - 1 \n",
    "\n",
    "        # translate border type to boundary mode\n",
    "        mode = 'wrap' if border == 'cyclic' else 'constant'\n",
    "        # pad the input\n",
    "        inp_padded = np.pad(inp, pad_width=(pad_width_f, pad_width_b), mode=mode)\n",
    "    \n",
    "    # otherwise the kernel is just a scalar and can directly be convolved with the \n",
    "    # scalar input\n",
    "    else:\n",
    "        inp_padded = inp\n",
    "    # perform the convolution\n",
    "    conv = scipy.signal.convolve(inp_padded, kernel, mode='valid')\n",
    "    \n",
    "    return conv\n",
    "    \n",
    "    \n",
    "class NeuralField(object):\n",
    "    ''' Neural Field object similar to the Neural Field used by cedar.\n",
    "        Implements the Neural Field equation of Dynamic Field theory.\n",
    "        The dimensionality of the Neural Field is read from the number\n",
    "        of elements in the sizes parameter. \n",
    "    '''\n",
    "    def __init__(self, sizes, h, tau, kernel, \n",
    "                 c_glob=1, \n",
    "                 nonlinearity=AbsSigmoid(beta=100),\n",
    "                 border_type='zero-filled borders',\n",
    "                 input_noise_gain=0.1):\n",
    "        self.u = np.ones(sizes) * h\n",
    "        self.h = h\n",
    "        self.tau = tau\n",
    "        self.sizes = sizes\n",
    "        self.c_glob = c_glob\n",
    "        self.nonlinearity = nonlinearity\n",
    "        self.border_type = border_type\n",
    "        self.input_noise_gain = input_noise_gain\n",
    "        self.probes = {\"sigmoided activation\": [],\n",
    "                       \"lateral interaction\": [],\n",
    "                       \"activation\": [],\n",
    "                       \"sigmoided sum\": []}\n",
    "        \n",
    "        assert (kernel.dims == len(sizes)), \"Kernel must have same number of \" + \\\n",
    "                                             \"dimensions as Neural Field!\"\n",
    "        self.kernel = kernel\n",
    "        \n",
    "        self.kernel_matrix = kernel()\n",
    "        \n",
    "    def update(self, stim):\n",
    "        a = self.nonlinearity(self.u)\n",
    "        self.probes[\"sigmoided activation\"].append(a)\n",
    "        recurr = pad_and_convolve(a, self.kernel_matrix, self.border_type)\n",
    "        self.probes[\"lateral interaction\"].append(recurr)\n",
    "        # in cedar the noise is divided by sqrt(tau)\n",
    "        self.u += (-self.u + self.h + self.c_glob * np.sum(a) + recurr + stim)/self.tau + \\\n",
    "                  (self.input_noise_gain * np.random.randn(*self.sizes)) / self.tau \n",
    "        self.probes[\"activation\"].append(np.array(self.u))\n",
    "        self.probes[\"sigmoided sum\"].append(np.sum(a))\n",
    "        return self.u\n",
    "        \n",
    "    def make_node(self):\n",
    "        return nengo.Node(lambda t, x: self.update(x.reshape(self.sizes)).flatten(),\n",
    "                          size_in=int(np.product(self.sizes)), \n",
    "                          size_out=int(np.product(self.sizes)))\n",
    "    "
   ]
  },
  {
   "cell_type": "code",
   "execution_count": 244,
   "metadata": {},
   "outputs": [],
   "source": [
    "dim = 0\n",
    "\n",
    "sim_time = 0.2\n",
    "c_glob = 0\n",
    "tau = 10\n",
    "h = -5\n",
    "noise = 0\n",
    "border_type = \"cyclic\"\n",
    "\n",
    "if dim == 0:\n",
    "    kernel_ampl = 2\n",
    "#     kernel = BoxKernel(amplitude=kernel_ampl)\n",
    "    kernel = GaussKernel(c=2, sigma=3, dims=0, normalize=False)\n",
    "    sizes = [] \n",
    "    tau = tau\n",
    "    \n",
    "elif dim == 1:\n",
    "    sizes = [50]\n",
    "    kernel_ampl = 1\n",
    "    kernel_std = 3\n",
    "    kernel_dims = 1\n",
    "    normalize = True\n",
    "    kernel = GaussKernel(c=kernel_ampl, sigma=kernel_std, dims=kernel_dims, normalize=normalize)\n",
    "    \n",
    "elif dim == 2:\n",
    "    sizes = [50,50]\n",
    "    kernel_ampl = 2\n",
    "    kernel_std = 5\n",
    "    kernel_dims = 2\n",
    "    normalize = True\n",
    "    kernel = GaussKernel(c=kernel_ampl, sigma=kernel_std, dims=kernel_dims, normalize=normalize)\n",
    "    \n",
    "elif dim == 3:\n",
    "    sizes = [50,50,50]\n",
    "    kernel_ampl = 1\n",
    "    kernel_std = 5\n",
    "    kernel_dims = 3\n",
    "    normalize = True\n",
    "    kernel = GaussKernel(c=kernel_ampl, sigma=kernel_std, dims=kernel_dims, normalize=normalize)\n",
    "    \n",
    "field = NeuralField(sizes=sizes, h=h, tau=tau, c_glob=c_glob, kernel=kernel, border_type=border_type, \n",
    "                    input_noise_gain=noise, nonlinearity=AbsSigmoid())            "
   ]
  },
  {
   "cell_type": "code",
   "execution_count": 245,
   "metadata": {},
   "outputs": [
    {
     "data": {
      "text/html": [
       "\n",
       "                <div id=\"4a51c2df-6b8c-4eeb-b28f-ae93f8d648ba\" style=\"\n",
       "                    width: 100%;\n",
       "                    border: 1px solid #cfcfcf;\n",
       "                    border-radius: 4px;\n",
       "                    text-align: center;\n",
       "                    position: relative;\">\n",
       "                  <div class=\"pb-text\" style=\"\n",
       "                      position: absolute;\n",
       "                      width: 100%;\">\n",
       "                    0%\n",
       "                  </div>\n",
       "                  <div class=\"pb-fill\" style=\"\n",
       "                      background-color: #bdd2e6;\n",
       "                      width: 0%;\">\n",
       "                    <style type=\"text/css\" scoped=\"scoped\">\n",
       "                        @keyframes pb-fill-anim {\n",
       "                            0% { background-position: 0 0; }\n",
       "                            100% { background-position: 100px 0; }\n",
       "                        }\n",
       "                    </style>\n",
       "                    &nbsp;\n",
       "                  </div>\n",
       "                </div>"
      ],
      "text/plain": [
       "HtmlProgressBar cannot be displayed. Please use the TerminalProgressBar. It can be enabled with `nengo.rc.set('progress', 'progress_bar', 'nengo.utils.progress.TerminalProgressBar')`."
      ]
     },
     "metadata": {},
     "output_type": "display_data"
    },
    {
     "data": {
      "application/javascript": [
       "\n",
       "              (function () {\n",
       "                  var root = document.getElementById('4a51c2df-6b8c-4eeb-b28f-ae93f8d648ba');\n",
       "                  var text = root.getElementsByClassName('pb-text')[0];\n",
       "                  var fill = root.getElementsByClassName('pb-fill')[0];\n",
       "\n",
       "                  text.innerHTML = 'Build finished in 0:00:01.';\n",
       "                  \n",
       "            fill.style.width = '100%';\n",
       "            fill.style.animation = 'pb-fill-anim 2s linear infinite';\n",
       "            fill.style.backgroundSize = '100px 100%';\n",
       "            fill.style.backgroundImage = 'repeating-linear-gradient(' +\n",
       "                '90deg, #bdd2e6, #edf2f8 40%, #bdd2e6 80%, #bdd2e6)';\n",
       "        \n",
       "                  \n",
       "                fill.style.animation = 'none';\n",
       "                fill.style.backgroundImage = 'none';\n",
       "            \n",
       "              })();\n",
       "        "
      ],
      "text/plain": [
       "<IPython.core.display.Javascript object>"
      ]
     },
     "metadata": {},
     "output_type": "display_data"
    },
    {
     "data": {
      "text/html": [
       "\n",
       "                <div id=\"d51b2a05-4681-466a-9bbc-20c34508ed75\" style=\"\n",
       "                    width: 100%;\n",
       "                    border: 1px solid #cfcfcf;\n",
       "                    border-radius: 4px;\n",
       "                    text-align: center;\n",
       "                    position: relative;\">\n",
       "                  <div class=\"pb-text\" style=\"\n",
       "                      position: absolute;\n",
       "                      width: 100%;\">\n",
       "                    0%\n",
       "                  </div>\n",
       "                  <div class=\"pb-fill\" style=\"\n",
       "                      background-color: #bdd2e6;\n",
       "                      width: 0%;\">\n",
       "                    <style type=\"text/css\" scoped=\"scoped\">\n",
       "                        @keyframes pb-fill-anim {\n",
       "                            0% { background-position: 0 0; }\n",
       "                            100% { background-position: 100px 0; }\n",
       "                        }\n",
       "                    </style>\n",
       "                    &nbsp;\n",
       "                  </div>\n",
       "                </div>"
      ],
      "text/plain": [
       "HtmlProgressBar cannot be displayed. Please use the TerminalProgressBar. It can be enabled with `nengo.rc.set('progress', 'progress_bar', 'nengo.utils.progress.TerminalProgressBar')`."
      ]
     },
     "metadata": {},
     "output_type": "display_data"
    },
    {
     "data": {
      "application/javascript": [
       "\n",
       "              (function () {\n",
       "                  var root = document.getElementById('d51b2a05-4681-466a-9bbc-20c34508ed75');\n",
       "                  var text = root.getElementsByClassName('pb-text')[0];\n",
       "                  var fill = root.getElementsByClassName('pb-fill')[0];\n",
       "\n",
       "                  text.innerHTML = 'Simulation finished in 0:00:01.';\n",
       "                  \n",
       "            if (100.0 > 0.) {\n",
       "                fill.style.transition = 'width 0.1s linear';\n",
       "            } else {\n",
       "                fill.style.transition = 'none';\n",
       "            }\n",
       "\n",
       "            fill.style.width = '100.0%';\n",
       "            fill.style.animation = 'none';\n",
       "            fill.style.backgroundImage = 'none'\n",
       "        \n",
       "                  \n",
       "                fill.style.animation = 'none';\n",
       "                fill.style.backgroundImage = 'none';\n",
       "            \n",
       "              })();\n",
       "        "
      ],
      "text/plain": [
       "<IPython.core.display.Javascript object>"
      ]
     },
     "metadata": {},
     "output_type": "display_data"
    }
   ],
   "source": [
    "model = nengo.Network()\n",
    "with model:\n",
    "    \n",
    "    if dim == 0:\n",
    "        s = nengo.Node(4.9)\n",
    "    elif dim == 1:\n",
    "        s = nengo.Node(list(one_dimensional_peak(5,std=5,a=6.5,size=50).flatten()))\n",
    "    elif dim == 2:\n",
    "        s = nengo.Node(list(two_dimensional_peak(5,5,std=5,a=6.5,size=50).flatten()))\n",
    "    elif dim == 3:\n",
    "        s = nengo.Node(list(three_dimensional_peak(5,5,5,std=8,a=6.5,size=50).flatten()))\n",
    "    \n",
    "    u = field.make_node()\n",
    "    \n",
    "    nengo.Connection(s, u)\n",
    "                                                      \n",
    "    activation_probe = nengo.Probe(u)\n",
    "    external_input_probe = nengo.Probe(s)\n",
    "    \n",
    "sim = nengo.Simulator(model)\n",
    "with sim:\n",
    "    sim.run(sim_time)"
   ]
  },
  {
   "cell_type": "code",
   "execution_count": 246,
   "metadata": {},
   "outputs": [
    {
     "name": "stdout",
     "output_type": "stream",
     "text": [
      "0.997374982355896\n"
     ]
    }
   ],
   "source": [
    "# print sum(sigmoided activation) after convergence\n",
    "# for c_glob=0 it is 1113 for cedar\n",
    "print(field.probes['sigmoided sum'][-1])"
   ]
  },
  {
   "cell_type": "code",
   "execution_count": 247,
   "metadata": {},
   "outputs": [
    {
     "name": "stdout",
     "output_type": "stream",
     "text": [
      "[1.89474796 1.89474816 1.89474834 1.8947485  1.89474865 1.89474878\n",
      " 1.8947489  1.89474901 1.8947491  1.89474919]\n"
     ]
    }
   ],
   "source": [
    "max_act = np.max(sim.data[activation_probe], axis=1)\n",
    "# print maximum activation after convergence\n",
    "print(max_act[-10:])\n"
   ]
  },
  {
   "cell_type": "markdown",
   "metadata": {},
   "source": [
    "# Plot activation, sigmoided activation and lateral interaction"
   ]
  },
  {
   "cell_type": "code",
   "execution_count": 248,
   "metadata": {
    "scrolled": false
   },
   "outputs": [
    {
     "data": {
      "image/png": "[encoded data removed]",
      "text/plain": [
       "<Figure size 864x576 with 1 Axes>"
      ]
     },
     "metadata": {
      "needs_background": "light"
     },
     "output_type": "display_data"
    }
   ],
   "source": [
    "# different kind of plots for different dimensionalities\n",
    "\n",
    "if dim == 0:\n",
    "    plt.figure(figsize=(12,8))\n",
    "    plt.plot(sim.data[activation_probe], label='activation')\n",
    "    plt.plot(field.probes[\"sigmoided activation\"], label='sigmoided activation')\n",
    "    plt.plot(field.probes[\"lateral interaction\"], label='lateral interaction')\n",
    "    plt.plot(np.arange(0,int(sim_time*1000),50), [0]*int((sim_time*1000)//50), 'o')\n",
    "    plt.legend()\n",
    "    \n",
    "elif dim == 1:\n",
    "    num_images = 10\n",
    "    fig, axs = plt.subplots(3, num_images, sharex=\"col\", sharey=\"row\", figsize=(24,6), gridspec_kw={\"hspace\": 0.25})\n",
    "\n",
    "    axs[0,0].set_title('Activation', fontsize=15)\n",
    "    axs[0,0].set_ylim([np.min(field.probes[\"activation\"])-0.1,np.max(field.probes[\"activation\"])+0.1])\n",
    "    axs[1,0].set_title('Sigmoided activation', fontsize=15)\n",
    "    axs[1,0].set_ylim([np.min(field.probes[\"sigmoided activation\"])-0.1,\n",
    "                       np.max(field.probes[\"sigmoided activation\"])+0.1])\n",
    "    axs[2,0].set_title('Lateral interaction', fontsize=15)\n",
    "    axs[2,0].set_ylim([np.min(field.probes[\"lateral interaction\"])-0.1,\n",
    "                       np.max(field.probes[\"lateral interaction\"])+0.1])\n",
    "    \n",
    "    for i in range(num_images):\n",
    "#         ind = int(field.probes[\"activation\"].shape[0]/num_images)\n",
    "        ind = i*100\n",
    "        \n",
    "        axs[0,i].plot(field.probes[\"activation\"][ind])\n",
    "        axs[1,i].plot(field.probes[\"sigmoided activation\"][ind])\n",
    "        axs[2,i].plot(field.probes[\"lateral interaction\"][ind])\n",
    "        \n",
    "elif dim == 2:\n",
    "    num_images = 10\n",
    "    fig, axs = plt.subplots(3, num_images, figsize=(24,6), gridspec_kw={\"hspace\": 0.1, \"wspace\": 0.5})\n",
    "    \n",
    "    axs[0,0].set_title('Activation', fontsize=15)\n",
    "    axs[1,0].set_title('Sigmoided activation', fontsize=15)\n",
    "    axs[2,0].set_title('Lateral interaction', fontsize=15)\n",
    "    \n",
    "    plt.setp(axs, xticks=[], yticks=[])\n",
    "    \n",
    "    for i in range(num_images):\n",
    "        ind = i*40\n",
    "        \n",
    "        im_ac = axs[0,i].imshow(sim.data[activation_probe][ind].reshape(sizes), cmap='jet')\n",
    "        im_sa = axs[1,i].imshow(field.probes[\"sigmoided activation\"][ind], cmap='jet')\n",
    "        im_li = axs[2,i].imshow(field.probes[\"lateral interaction\"][ind], cmap='jet')\n",
    "    \n",
    "        act_min, act_max = np.min(sim.data[activation_probe][ind]), np.max(sim.data[activation_probe][ind])\n",
    "        sa_min, sa_max = np.min(field.probes[\"sigmoided activation\"][ind]), np.max(field.probes[\"sigmoided activation\"][ind])\n",
    "        li_min, li_max = np.min(field.probes[\"lateral interaction\"][ind]), np.max(field.probes[\"lateral interaction\"][ind])\n",
    "        \n",
    "        divider = make_axes_locatable(axs[0,i])\n",
    "        cax_ac = divider.append_axes('right', size=\"10%\", pad=0.05)\n",
    "        fig.colorbar(im_ac, cax_ac, ticks=[act_min, act_max])\n",
    "\n",
    "        divider = make_axes_locatable(axs[1,i])\n",
    "        cax_sa = divider.append_axes('right', size=\"10%\", pad=0.05)\n",
    "        fig.colorbar(im_sa, cax_sa, ticks=[sa_min, sa_max])\n",
    "\n",
    "        divider = make_axes_locatable(axs[2,i])\n",
    "        cax_li = divider.append_axes('right', size=\"10%\", pad=0.05)\n",
    "        fig.colorbar(im_li, cax_li, ticks=[li_min, li_max])\n",
    "    \n",
    "elif dim == 3:\n",
    "    # only plot at one point in time \n",
    "    time_ind = 399\n",
    "    num_images = 10\n",
    "    \n",
    "    fig, axs = plt.subplots(3, num_images, figsize=(24,8), gridspec_kw={\"hspace\": 0.25})\n",
    "    \n",
    "    axs[0,0].set_title('Activation', fontsize=15)\n",
    "    axs[1,0].set_title('Sigmoided activation', fontsize=15)\n",
    "    axs[2,0].set_title('Lateral interaction', fontsize=15)\n",
    "    act_min, act_max = np.min(sim.data[activation_probe][time_ind]), np.max(sim.data[activation_probe][time_ind])\n",
    "    sa_min, sa_max = np.min(field.probes[\"sigmoided activation\"][time_ind]), np.max(field.probes[\"sigmoided activation\"][time_ind])\n",
    "    li_min, li_max = np.min(field.probes[\"lateral interaction\"][time_ind]), np.max(field.probes[\"lateral interaction\"][time_ind])\n",
    "    plt.setp(axs, xticks=[], yticks=[])\n",
    "    \n",
    "    for i in range(num_images):\n",
    "        # just get the first 10 images, since the gaussian peak is at the beginning\n",
    "        ind = i\n",
    "        s0, s1, s2 = sizes[0], sizes[1], sizes[2]\n",
    "        im_ac = axs[0,i].imshow(sim.data[activation_probe][time_ind][ind*s1*s2:ind*s1*s2+s1*s2].reshape(s1,s2), \n",
    "                                cmap='jet', vmin=act_min, vmax=act_max)\n",
    "        im_sa = axs[1,i].imshow(field.probes[\"sigmoided activation\"][time_ind][ind], cmap='jet', \n",
    "                                vmin=sa_min, vmax=sa_max)\n",
    "        im_li = axs[2,i].imshow(field.probes[\"lateral interaction\"][time_ind][ind], cmap='jet', \n",
    "                                vmin=li_min, vmax=li_max)\n",
    "    \n",
    "    fig.subplots_adjust(right=0.95)\n",
    "    cax_ac = fig.add_axes([0.96, 0.667, 0.01, 0.211])\n",
    "    cbar_ac = fig.colorbar(im_ac, cax_ac, ticks=[act_min, act_max])\n",
    "    cbar_ac.ax.tick_params(labelsize=15)\n",
    "    \n",
    "    cax_sa = fig.add_axes([0.96, 0.397, 0.01, 0.211])\n",
    "    cbar_sa = fig.colorbar(im_sa, cax_sa, ticks=[sa_min, sa_max])\n",
    "    cbar_sa.ax.tick_params(labelsize=15)\n",
    "    \n",
    "    cax_li = fig.add_axes([0.96, 0.129, 0.01, 0.211])\n",
    "    cbar_li = fig.colorbar(im_li, cax_li, ticks=[li_min, li_max])\n",
    "    cbar_li.ax.tick_params(labelsize=15)\n",
    "    \n",
    "plt.show()"
   ]
  },
  {
   "cell_type": "markdown",
   "metadata": {},
   "source": [
    "# Histogram of activation"
   ]
  },
  {
   "cell_type": "code",
   "execution_count": 46,
   "metadata": {},
   "outputs": [
    {
     "data": {
      "image/png": "[encoded data removed]",
      "text/plain": [
       "<Figure size 1440x720 with 1 Axes>"
      ]
     },
     "metadata": {
      "needs_background": "light"
     },
     "output_type": "display_data"
    }
   ],
   "source": [
    "activation = sim.data[activation_probe][-1]\n",
    "bins = [-6, -5.8, -5.6, -5.4, -5.2, -5, -4.5, -4, -3, -2.0, -1.9, -1.8, -1.7, -1.6, -1.5, -1.4, -1.3,\n",
    " -1.2, -1.1, -1.0, -9.0e-01, -8.0e-01, -7.0e-01, -6.0e-01, -5.0e-01,\n",
    " -4.5e-01, -4.0e-01, -3.5e-01, -3.3e-01, -3.0e-01, -2.5e-01, -2.0e-01, -1.5e-01,\n",
    " -1.0e-01, -5.0e-02, -4.0e-02, -3.0e-02, -2.0e-02, -1.0e-02, -5.0e-03, -1.0e-03,\n",
    " -0.0e+00,  1.0e-03,  2.0e-03,  3.0e-03,  4.0e-03,  5.0e-03,  6.0e-03,  7.0e-03,\n",
    "  8.0e-03,  9.0e-03,  1.0e-02,  2.0e-02,  3.0e-02,  4.0e-02,  5.0e-02,  6.0e-02,\n",
    "  7.0e-02,  8.0e-02,  9.0e-02,  1.0e-01,  1.5e-01,  2.0e-01,  2.5e-01,  3.0e-01,\n",
    "  3.5e-01,  4.0e-01,  4.5e-01,  5.0e-01,  5.5e-01,  6.0e-01,  6.5e-01,  7.0e-01,\n",
    "  7.5e-01,  8.0e-01,  8.5e-01,  9.0e-01,  9.5e-01,  1.0e+00]\n",
    "hist_values, bin_edges = np.histogram(activation, bins)\n",
    "\n",
    "plt.figure(figsize=(20,10))\n",
    "plt.hist(activation,bins=np.arange(-5.2,0.5,0.2))\n",
    "#plt.yscale('log')\n",
    "plt.yticks(size='xx-large')\n",
    "plt.xticks(size='xx-large')\n",
    "           \n",
    "plt.show()"
   ]
  }
 ],
 "metadata": {
  "kernelspec": {
   "display_name": "Python 3",
   "language": "python",
   "name": "python3"
  },
  "language_info": {
   "codemirror_mode": {
    "name": "ipython",
    "version": 3
   },
   "file_extension": ".py",
   "mimetype": "text/x-python",
   "name": "python",
   "nbconvert_exporter": "python",
   "pygments_lexer": "ipython3",
   "version": "3.7.3"
  }
 },
 "nbformat": 4,
 "nbformat_minor": 2
}
