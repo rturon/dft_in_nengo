{
 "cells": [
  {
   "cell_type": "markdown",
   "metadata": {},
   "source": [
    "This notebook tests the creation of the example map from the original paper of the spatial reasoning architecture. At the moment the map that one would expect is not created but the resulting map only consists of two objects and not 5 objects. The map looks like the result of the first supplied sentence. It could be the case that the following sentences have to be supplied later than at the moment so that the system can reset its parameters before placing new objects in the scene. Also, in the experiment files from the seminar the target, reference and spatial relation of a sentence are supplied after each other and not in the same time. "
   ]
  },
  {
   "cell_type": "code",
   "execution_count": 1,
   "metadata": {},
   "outputs": [],
   "source": [
    "import sys\n",
    "sys.path.append('../')\n",
    "from read_json import load_from_json\n",
    "from parse_cedar_objects import parse_cedar_params, make_connection\n",
    "import nengo\n",
    "import numpy as np\n",
    "import matplotlib.pyplot as plt"
   ]
  },
  {
   "cell_type": "code",
   "execution_count": 2,
   "metadata": {},
   "outputs": [],
   "source": [
    "PROBE_ALL = False\n",
    "SAVE_SIMULATION = False"
   ]
  },
  {
   "cell_type": "code",
   "execution_count": 3,
   "metadata": {},
   "outputs": [
    {
     "name": "stdout",
     "output_type": "stream",
     "text": [
      "Component Multiply 20 does not have 2 inputs, but 0!\n",
      "The object Static Gain 23 does not have a source!\n"
     ]
    }
   ],
   "source": [
    "objects, connections = load_from_json('../JSON/mental_imagery_extended.json')"
   ]
  },
  {
   "cell_type": "code",
   "execution_count": 4,
   "metadata": {},
   "outputs": [],
   "source": [
    "model = nengo.Network()\n",
    "\n",
    "with model:\n",
    "    nengo_objects = {}\n",
    "    # create the nodes\n",
    "    for ob_key in objects:\n",
    "        name, instance = parse_cedar_params(objects[ob_key])\n",
    "        instance.make_node()\n",
    "        nengo_objects[name] = instance\n",
    "    # create the connections\n",
    "    for connection in connections:\n",
    "        make_connection(connection[0][1], connection[1][1], nengo_objects)"
   ]
  },
  {
   "cell_type": "code",
   "execution_count": 23,
   "metadata": {},
   "outputs": [
    {
     "data": {
      "text/plain": [
       "433"
      ]
     },
     "execution_count": 23,
     "metadata": {},
     "output_type": "execute_result"
    }
   ],
   "source": [
    "len(model.nodes)"
   ]
  },
  {
   "cell_type": "code",
   "execution_count": 5,
   "metadata": {},
   "outputs": [],
   "source": [
    "# the list contains all nodes that are plotted in the plotting widget of the cedar architecture\n",
    "objects_to_probe = ['Reference Behavior.intention node',      # Reference processes\n",
    "                    'Reference Behavior.CoS node', \n",
    "                    'Reference Field & Reference Production Nodes.intention node',\n",
    "                    'Reference Field & Reference Production Nodes.CoS node',\n",
    "                    'Reference Memory Nodes & Color Field.intention node',\n",
    "                    'Reference Memory Nodes & Color Field.CoS node', \n",
    "                    'Target Behavior.intention node',        # Target processes\n",
    "                    'Target Behavior.CoS node', \n",
    "                    'Target Field & Target Production Nodes.intention node',\n",
    "                    'Target Field & Target Production Nodes.CoS node',\n",
    "                    'Reference Memory Nodes & Color Field 2.intention node',\n",
    "                    'Reference Memory Nodes & Color Field 2.CoS node',\n",
    "                    'Match Field.intention node', \n",
    "                    'Match Field.CoS node',\n",
    "                    'Relational Behavior.intention node',   # Spatial processes\n",
    "                    'Relational Behavior.CoS node',\n",
    "                    'OC Field and Spatial Production Nodes  .intention node',\n",
    "                    'OC Field and Spatial Production Nodes  .CoS node',\n",
    "                    'Condition of  Dissatisfaction .intention node', \n",
    "                    'Condition of  Dissatisfaction .CoS node',\n",
    "                    'Spatial Memory Nodes.intention node', \n",
    "                    'Spatial Memory nodes.CoS node',\n",
    "                    'Colour',                              # Color attention                                \n",
    "                    'Projection',                          # Attention (space)\n",
    "                    'Indeterminent ',                      # Spatial scene representation\n",
    "                    'Reference',                           # Reference\n",
    "                    'Target',                              # Target\n",
    "                    'Object-centered ',                    # Relational\n",
    "                    'Reference Red Memory',                # Reference color memory\n",
    "                    'Reference Blue Memory', \n",
    "                    'Reference Cyan Memory', \n",
    "                    'Reference Green Memory', \n",
    "                    'Reference Orange Memory', \n",
    "                    'To the left of Memory',               # Spatial relation memory\n",
    "                    'To the Right of Memory', \n",
    "                    'Above Memory', \n",
    "                    'Below Memory', \n",
    "                    'Target Red Memory',                   # Target color memory\n",
    "                    'Target Blue Memory', \n",
    "                    'Target Cyan Memory', \n",
    "                    'Target Green Memory', \n",
    "                    'Target Orange Memory', \n",
    "                    'Reference Red Production',            # Reference color production\n",
    "                    'Reference Blue Production', \n",
    "                    'Reference Cyan Production', \n",
    "                    'Reference Green Production', \n",
    "                    'Reference Orange Production',\n",
    "                    'To the left of Production',           # Spatial relation production\n",
    "                    'To the Right of Production', \n",
    "                    'Above Production', \n",
    "                    'Below Production',\n",
    "                    'Target Red Production',               # Target color production\n",
    "                    'Target Blue Production', \n",
    "                    'Target Cyan Production', \n",
    "                    'Target Green Production', \n",
    "                    'Target Orange Production']"
   ]
  },
  {
   "cell_type": "code",
   "execution_count": 6,
   "metadata": {},
   "outputs": [],
   "source": [
    "with model:\n",
    "    probes = {}\n",
    "    for key in nengo_objects:\n",
    "        if not PROBE_ALL:\n",
    "            if key in objects_to_probe:\n",
    "                probes[key] = nengo.Probe(nengo_objects[key].node, sample_every=0.05)\n",
    "        else:\n",
    "            probes[key] = nengo.Probe(nengo_objects[key].node, sample_every=0.05)\n",
    "\n",
    "# set to correct value\n",
    "nengo_objects['Reference: Blue'].strength = 5.1"
   ]
  },
  {
   "cell_type": "code",
   "execution_count": 7,
   "metadata": {},
   "outputs": [
    {
     "data": {
      "text/html": [
       "\n",
       "                <div id=\"ff699096-44ea-45dd-bad9-645fa08df622\" style=\"\n",
       "                    width: 100%;\n",
       "                    border: 1px solid #cfcfcf;\n",
       "                    border-radius: 4px;\n",
       "                    text-align: center;\n",
       "                    position: relative;\">\n",
       "                  <div class=\"pb-text\" style=\"\n",
       "                      position: absolute;\n",
       "                      width: 100%;\">\n",
       "                    0%\n",
       "                  </div>\n",
       "                  <div class=\"pb-fill\" style=\"\n",
       "                      background-color: #bdd2e6;\n",
       "                      width: 0%;\">\n",
       "                    <style type=\"text/css\" scoped=\"scoped\">\n",
       "                        @keyframes pb-fill-anim {\n",
       "                            0% { background-position: 0 0; }\n",
       "                            100% { background-position: 100px 0; }\n",
       "                        }\n",
       "                    </style>\n",
       "                    &nbsp;\n",
       "                  </div>\n",
       "                </div>"
      ],
      "text/plain": [
       "HtmlProgressBar cannot be displayed. Please use the TerminalProgressBar. It can be enabled with `nengo.rc.set('progress', 'progress_bar', 'nengo.utils.progress.TerminalProgressBar')`."
      ]
     },
     "metadata": {},
     "output_type": "display_data"
    },
    {
     "data": {
      "application/javascript": [
       "\n",
       "              (function () {\n",
       "                  var root = document.getElementById('ff699096-44ea-45dd-bad9-645fa08df622');\n",
       "                  var text = root.getElementsByClassName('pb-text')[0];\n",
       "                  var fill = root.getElementsByClassName('pb-fill')[0];\n",
       "\n",
       "                  text.innerHTML = 'Build finished in 0:00:08.';\n",
       "                  \n",
       "            fill.style.width = '100%';\n",
       "            fill.style.animation = 'pb-fill-anim 2s linear infinite';\n",
       "            fill.style.backgroundSize = '100px 100%';\n",
       "            fill.style.backgroundImage = 'repeating-linear-gradient(' +\n",
       "                '90deg, #bdd2e6, #edf2f8 40%, #bdd2e6 80%, #bdd2e6)';\n",
       "        \n",
       "                  \n",
       "                fill.style.animation = 'none';\n",
       "                fill.style.backgroundImage = 'none';\n",
       "            \n",
       "              })();\n",
       "        "
      ],
      "text/plain": [
       "<IPython.core.display.Javascript object>"
      ]
     },
     "metadata": {},
     "output_type": "display_data"
    }
   ],
   "source": [
    "sim = nengo.Simulator(model)"
   ]
  },
  {
   "cell_type": "code",
   "execution_count": 8,
   "metadata": {},
   "outputs": [
    {
     "data": {
      "text/html": [
       "\n",
       "                <div id=\"64f25b8a-6759-4f22-b6c7-ffe31ae4ff2b\" style=\"\n",
       "                    width: 100%;\n",
       "                    border: 1px solid #cfcfcf;\n",
       "                    border-radius: 4px;\n",
       "                    text-align: center;\n",
       "                    position: relative;\">\n",
       "                  <div class=\"pb-text\" style=\"\n",
       "                      position: absolute;\n",
       "                      width: 100%;\">\n",
       "                    0%\n",
       "                  </div>\n",
       "                  <div class=\"pb-fill\" style=\"\n",
       "                      background-color: #bdd2e6;\n",
       "                      width: 0%;\">\n",
       "                    <style type=\"text/css\" scoped=\"scoped\">\n",
       "                        @keyframes pb-fill-anim {\n",
       "                            0% { background-position: 0 0; }\n",
       "                            100% { background-position: 100px 0; }\n",
       "                        }\n",
       "                    </style>\n",
       "                    &nbsp;\n",
       "                  </div>\n",
       "                </div>"
      ],
      "text/plain": [
       "HtmlProgressBar cannot be displayed. Please use the TerminalProgressBar. It can be enabled with `nengo.rc.set('progress', 'progress_bar', 'nengo.utils.progress.TerminalProgressBar')`."
      ]
     },
     "metadata": {},
     "output_type": "display_data"
    },
    {
     "data": {
      "application/javascript": [
       "\n",
       "              (function () {\n",
       "                  var root = document.getElementById('64f25b8a-6759-4f22-b6c7-ffe31ae4ff2b');\n",
       "                  var text = root.getElementsByClassName('pb-text')[0];\n",
       "                  var fill = root.getElementsByClassName('pb-fill')[0];\n",
       "\n",
       "                  text.innerHTML = 'Simulation finished in 0:02:30.';\n",
       "                  \n",
       "            if (100.0 > 0.) {\n",
       "                fill.style.transition = 'width 0.1s linear';\n",
       "            } else {\n",
       "                fill.style.transition = 'none';\n",
       "            }\n",
       "\n",
       "            fill.style.width = '100.0%';\n",
       "            fill.style.animation = 'none';\n",
       "            fill.style.backgroundImage = 'none'\n",
       "        \n",
       "                  \n",
       "                fill.style.animation = 'none';\n",
       "                fill.style.backgroundImage = 'none';\n",
       "            \n",
       "              })();\n",
       "        "
      ],
      "text/plain": [
       "<IPython.core.display.Javascript object>"
      ]
     },
     "metadata": {},
     "output_type": "display_data"
    }
   ],
   "source": [
    "# Supply first sentence: There is a cyan object above a green object\n",
    "nengo_objects['Reference: Green'].active = True\n",
    "nengo_objects['Target: Cyan'].active = True\n",
    "nengo_objects['Spatial relation: Above'].active = True\n",
    "\n",
    "sim.run(0.5)"
   ]
  },
  {
   "cell_type": "code",
   "execution_count": 9,
   "metadata": {},
   "outputs": [
    {
     "data": {
      "text/html": [
       "\n",
       "                <div id=\"77755da5-0cb1-42a0-9ef1-cdeebdbf7812\" style=\"\n",
       "                    width: 100%;\n",
       "                    border: 1px solid #cfcfcf;\n",
       "                    border-radius: 4px;\n",
       "                    text-align: center;\n",
       "                    position: relative;\">\n",
       "                  <div class=\"pb-text\" style=\"\n",
       "                      position: absolute;\n",
       "                      width: 100%;\">\n",
       "                    0%\n",
       "                  </div>\n",
       "                  <div class=\"pb-fill\" style=\"\n",
       "                      background-color: #bdd2e6;\n",
       "                      width: 0%;\">\n",
       "                    <style type=\"text/css\" scoped=\"scoped\">\n",
       "                        @keyframes pb-fill-anim {\n",
       "                            0% { background-position: 0 0; }\n",
       "                            100% { background-position: 100px 0; }\n",
       "                        }\n",
       "                    </style>\n",
       "                    &nbsp;\n",
       "                  </div>\n",
       "                </div>"
      ],
      "text/plain": [
       "HtmlProgressBar cannot be displayed. Please use the TerminalProgressBar. It can be enabled with `nengo.rc.set('progress', 'progress_bar', 'nengo.utils.progress.TerminalProgressBar')`."
      ]
     },
     "metadata": {},
     "output_type": "display_data"
    },
    {
     "data": {
      "application/javascript": [
       "\n",
       "              (function () {\n",
       "                  var root = document.getElementById('77755da5-0cb1-42a0-9ef1-cdeebdbf7812');\n",
       "                  var text = root.getElementsByClassName('pb-text')[0];\n",
       "                  var fill = root.getElementsByClassName('pb-fill')[0];\n",
       "\n",
       "                  text.innerHTML = 'Simulation finished in 0:46:47.';\n",
       "                  \n",
       "            if (100.0 > 0.) {\n",
       "                fill.style.transition = 'width 0.1s linear';\n",
       "            } else {\n",
       "                fill.style.transition = 'none';\n",
       "            }\n",
       "\n",
       "            fill.style.width = '100.0%';\n",
       "            fill.style.animation = 'none';\n",
       "            fill.style.backgroundImage = 'none'\n",
       "        \n",
       "                  \n",
       "                fill.style.animation = 'none';\n",
       "                fill.style.backgroundImage = 'none';\n",
       "            \n",
       "              })();\n",
       "        "
      ],
      "text/plain": [
       "<IPython.core.display.Javascript object>"
      ]
     },
     "metadata": {},
     "output_type": "display_data"
    }
   ],
   "source": [
    "# Activate imagine node\n",
    "nengo_objects['Reference: Green'].active = False\n",
    "nengo_objects['Target: Cyan'].active = False\n",
    "nengo_objects['Spatial relation: Above'].active = False\n",
    "nengo_objects['Action: Imagine'].active = True\n",
    "\n",
    "sim.run(8.5)"
   ]
  },
  {
   "cell_type": "code",
   "execution_count": 10,
   "metadata": {},
   "outputs": [
    {
     "data": {
      "text/html": [
       "\n",
       "                <div id=\"dbf694af-fee4-4ad7-ba3c-5ee71eee88af\" style=\"\n",
       "                    width: 100%;\n",
       "                    border: 1px solid #cfcfcf;\n",
       "                    border-radius: 4px;\n",
       "                    text-align: center;\n",
       "                    position: relative;\">\n",
       "                  <div class=\"pb-text\" style=\"\n",
       "                      position: absolute;\n",
       "                      width: 100%;\">\n",
       "                    0%\n",
       "                  </div>\n",
       "                  <div class=\"pb-fill\" style=\"\n",
       "                      background-color: #bdd2e6;\n",
       "                      width: 0%;\">\n",
       "                    <style type=\"text/css\" scoped=\"scoped\">\n",
       "                        @keyframes pb-fill-anim {\n",
       "                            0% { background-position: 0 0; }\n",
       "                            100% { background-position: 100px 0; }\n",
       "                        }\n",
       "                    </style>\n",
       "                    &nbsp;\n",
       "                  </div>\n",
       "                </div>"
      ],
      "text/plain": [
       "HtmlProgressBar cannot be displayed. Please use the TerminalProgressBar. It can be enabled with `nengo.rc.set('progress', 'progress_bar', 'nengo.utils.progress.TerminalProgressBar')`."
      ]
     },
     "metadata": {},
     "output_type": "display_data"
    },
    {
     "data": {
      "application/javascript": [
       "\n",
       "              (function () {\n",
       "                  var root = document.getElementById('dbf694af-fee4-4ad7-ba3c-5ee71eee88af');\n",
       "                  var text = root.getElementsByClassName('pb-text')[0];\n",
       "                  var fill = root.getElementsByClassName('pb-fill')[0];\n",
       "\n",
       "                  text.innerHTML = 'Simulation finished in 0:02:51.';\n",
       "                  \n",
       "            if (100.0 > 0.) {\n",
       "                fill.style.transition = 'width 0.1s linear';\n",
       "            } else {\n",
       "                fill.style.transition = 'none';\n",
       "            }\n",
       "\n",
       "            fill.style.width = '100.0%';\n",
       "            fill.style.animation = 'none';\n",
       "            fill.style.backgroundImage = 'none'\n",
       "        \n",
       "                  \n",
       "                fill.style.animation = 'none';\n",
       "                fill.style.backgroundImage = 'none';\n",
       "            \n",
       "              })();\n",
       "        "
      ],
      "text/plain": [
       "<IPython.core.display.Javascript object>"
      ]
     },
     "metadata": {},
     "output_type": "display_data"
    }
   ],
   "source": [
    "# Supply second sentence: There is a red object to the left of the green object\n",
    "nengo_objects['Reference: Green'].active = True\n",
    "nengo_objects['Target: Red'].active = True\n",
    "nengo_objects['Spatial relation: Left'].active = True\n",
    "\n",
    "sim.run(0.5)"
   ]
  },
  {
   "cell_type": "code",
   "execution_count": 11,
   "metadata": {},
   "outputs": [
    {
     "data": {
      "text/html": [
       "\n",
       "                <div id=\"59e52987-e743-4c91-bbbc-e5bdd387eb3d\" style=\"\n",
       "                    width: 100%;\n",
       "                    border: 1px solid #cfcfcf;\n",
       "                    border-radius: 4px;\n",
       "                    text-align: center;\n",
       "                    position: relative;\">\n",
       "                  <div class=\"pb-text\" style=\"\n",
       "                      position: absolute;\n",
       "                      width: 100%;\">\n",
       "                    0%\n",
       "                  </div>\n",
       "                  <div class=\"pb-fill\" style=\"\n",
       "                      background-color: #bdd2e6;\n",
       "                      width: 0%;\">\n",
       "                    <style type=\"text/css\" scoped=\"scoped\">\n",
       "                        @keyframes pb-fill-anim {\n",
       "                            0% { background-position: 0 0; }\n",
       "                            100% { background-position: 100px 0; }\n",
       "                        }\n",
       "                    </style>\n",
       "                    &nbsp;\n",
       "                  </div>\n",
       "                </div>"
      ],
      "text/plain": [
       "HtmlProgressBar cannot be displayed. Please use the TerminalProgressBar. It can be enabled with `nengo.rc.set('progress', 'progress_bar', 'nengo.utils.progress.TerminalProgressBar')`."
      ]
     },
     "metadata": {},
     "output_type": "display_data"
    },
    {
     "data": {
      "application/javascript": [
       "\n",
       "              (function () {\n",
       "                  var root = document.getElementById('59e52987-e743-4c91-bbbc-e5bdd387eb3d');\n",
       "                  var text = root.getElementsByClassName('pb-text')[0];\n",
       "                  var fill = root.getElementsByClassName('pb-fill')[0];\n",
       "\n",
       "                  text.innerHTML = 'Simulation finished in 0:48:32.';\n",
       "                  \n",
       "            if (100.0 > 0.) {\n",
       "                fill.style.transition = 'width 0.1s linear';\n",
       "            } else {\n",
       "                fill.style.transition = 'none';\n",
       "            }\n",
       "\n",
       "            fill.style.width = '100.0%';\n",
       "            fill.style.animation = 'none';\n",
       "            fill.style.backgroundImage = 'none'\n",
       "        \n",
       "                  \n",
       "                fill.style.animation = 'none';\n",
       "                fill.style.backgroundImage = 'none';\n",
       "            \n",
       "              })();\n",
       "        "
      ],
      "text/plain": [
       "<IPython.core.display.Javascript object>"
      ]
     },
     "metadata": {},
     "output_type": "display_data"
    }
   ],
   "source": [
    "nengo_objects['Reference: Green'].active = False\n",
    "nengo_objects['Target: Red'].active = False\n",
    "nengo_objects['Spatial relation: Left'].active = False\n",
    "\n",
    "sim.run(8.5)"
   ]
  },
  {
   "cell_type": "code",
   "execution_count": 12,
   "metadata": {},
   "outputs": [],
   "source": [
    "# # Supply third sentence: There is a blue object to the right of the red object\n",
    "# nengo_objects['Reference: Red'].active = True\n",
    "# nengo_objects['Target: Blue'].active = True\n",
    "# nengo_objects['Spatial relation: Right'].active = True\n",
    "\n",
    "# sim.run(0.5)"
   ]
  },
  {
   "cell_type": "code",
   "execution_count": 13,
   "metadata": {},
   "outputs": [],
   "source": [
    "# nengo_objects['Reference: Red'].active = False\n",
    "# nengo_objects['Target: Blue'].active = False\n",
    "# nengo_objects['Spatial relation: Right'].active = False\n",
    "\n",
    "# sim.run(7.5)"
   ]
  },
  {
   "cell_type": "code",
   "execution_count": 14,
   "metadata": {},
   "outputs": [],
   "source": [
    "# # supply fourth sentence: There is an orange object to the left of the blue object\n",
    "# nengo_objects['Reference: Blue'].active = True\n",
    "# nengo_objects['Target: Orange'].active = True\n",
    "# nengo_objects['Spatial relation: Left'].active = True\n",
    "\n",
    "# sim.run(0.5)"
   ]
  },
  {
   "cell_type": "code",
   "execution_count": 15,
   "metadata": {},
   "outputs": [],
   "source": [
    "# nengo_objects['Reference: Blue'].active = False\n",
    "# nengo_objects['Target: Orange'].active = False\n",
    "# nengo_objects['Spatial relation: Left'].active = False\n",
    "\n",
    "# sim.run(7.5)"
   ]
  },
  {
   "cell_type": "code",
   "execution_count": 16,
   "metadata": {},
   "outputs": [],
   "source": [
    "sim.close()"
   ]
  },
  {
   "cell_type": "code",
   "execution_count": 17,
   "metadata": {
    "scrolled": false
   },
   "outputs": [],
   "source": [
    "# save simulation results\n",
    "if SAVE_SIMULATION:\n",
    "    from datetime import datetime\n",
    "    import os \n",
    "    timestamp = str(datetime.now()).rsplit('.',1)[0]\n",
    "    print(timestamp)\n",
    "\n",
    "    os.mkdir('../simulation_data/%s' %timestamp)\n",
    "    for ob_key in probes:\n",
    "        file_name = ob_key.replace('/','_')\n",
    "        np.save('../simulation_data/%s/%s_%s' %(timestamp, file_name, timestamp), sim.data[probes[ob_key]])"
   ]
  },
  {
   "cell_type": "markdown",
   "metadata": {},
   "source": [
    "# Plot color activation"
   ]
  },
  {
   "cell_type": "code",
   "execution_count": 18,
   "metadata": {},
   "outputs": [],
   "source": [
    "def plot_2dneuralfield(nf_data, time_points, colorbar=False):\n",
    "    plt.figure(figsize=(10, 5))\n",
    "    \n",
    "    # plot 15 points in time \n",
    "    for i, time_point in enumerate(time_points):\n",
    "        plt.subplot(3,5,i+1)\n",
    "        plt.imshow(nf_data[time_point].reshape(50,50), cmap='jet')\n",
    "        plt.title('%i ms' %(time_point*50))\n",
    "        plt.xticks([])\n",
    "        plt.yticks([])\n",
    "        if colorbar:\n",
    "            plt.colorbar()\n",
    "    plt.show()\n",
    "    \n",
    "def plot_1dneuralfield(nf_data, time_points):\n",
    "    plt.figure(figsize=(12,6))\n",
    "    min = np.min(nf_data)\n",
    "    max = np.max(nf_data)\n",
    "    dif = max-min\n",
    "    \n",
    "    for i, tp in enumerate(time_points):\n",
    "        plt.subplot(3,5,i+1)\n",
    "        plt.title('%i ms' %(tp*50))\n",
    "        plt.plot(nf_data[tp])\n",
    "        plt.ylim(min-0.1*dif, max+0.1*dif)\n",
    "        \n",
    "    plt.tight_layout()\n",
    "    plt.show()\n",
    "    \n",
    "def plot_3dneuralfield(nf_data, time_points):\n",
    "    # length of time_points maximally 6\n",
    "    plt.figure(figsize=(15,9))\n",
    "    \n",
    "    # create 6 plots of 7*8 images\n",
    "    cols = 3*8+2\n",
    "    rows = 2*7+2\n",
    "    for i, tp in enumerate(time_points):\n",
    "        min, max = np.min(nf_data[tp]), np.max(nf_data[tp])\n",
    "        print('Min and Max values: %.4f  %.4f' %(min, max))\n",
    "        tp_plot = (i//3)*8*cols + (i%3)*9 + 1\n",
    "        for j in range(50):\n",
    "            ind_plot = j//8*cols + (j%8)\n",
    "            plt.subplot(rows, cols, tp_plot+ind_plot)\n",
    "            plt.imshow(nf_data[tp,:,:,j], vmin=min, vmax=max, cmap='jet')\n",
    "            plt.xticks([])\n",
    "            plt.yticks([])\n",
    "            if j == 3:\n",
    "                plt.title(\"%i ms\" %(tp*50))\n"
   ]
  },
  {
   "cell_type": "code",
   "execution_count": 19,
   "metadata": {},
   "outputs": [],
   "source": [
    "time_points = np.linspace(50,sim.data[probes['Reference Blue Memory']].shape[0]-1,15, dtype=int)\n",
    "tps_1d = np.linspace(50,sim.data[probes['Reference Blue Memory']].shape[0]-1,15, dtype=int)\n",
    "\n",
    "from cedar_modules import AbsSigmoid\n",
    "sigmoid = AbsSigmoid()"
   ]
  },
  {
   "cell_type": "code",
   "execution_count": 20,
   "metadata": {},
   "outputs": [
    {
     "data": {
      "image/png": "[encoded data removed]",
      "text/plain": [
       "<Figure size 720x360 with 30 Axes>"
      ]
     },
     "metadata": {
      "needs_background": "light"
     },
     "output_type": "display_data"
    }
   ],
   "source": [
    "plot_2dneuralfield(sim.data[probes['Indeterminent ']], time_points, True)"
   ]
  },
  {
   "cell_type": "code",
   "execution_count": null,
   "metadata": {},
   "outputs": [],
   "source": []
  }
 ],
 "metadata": {
  "kernelspec": {
   "display_name": "Python 3",
   "language": "python",
   "name": "python3"
  },
  "language_info": {
   "codemirror_mode": {
    "name": "ipython",
    "version": 3
   },
   "file_extension": ".py",
   "mimetype": "text/x-python",
   "name": "python",
   "nbconvert_exporter": "python",
   "pygments_lexer": "ipython3",
   "version": "3.7.3"
  }
 },
 "nbformat": 4,
 "nbformat_minor": 2
}
