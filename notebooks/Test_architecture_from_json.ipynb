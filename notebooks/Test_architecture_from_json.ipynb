{
 "cells": [
  {
   "cell_type": "code",
   "execution_count": 1,
   "metadata": {},
   "outputs": [],
   "source": [
    "import sys\n",
    "sys.path.append('../')\n",
    "from read_json import load_from_json\n",
    "from parse_cedar_objects import parse_cedar_params\n",
    "import nengo\n",
    "import numpy as np\n",
    "import matplotlib.pyplot as plt"
   ]
  },
  {
   "cell_type": "code",
   "execution_count": 2,
   "metadata": {},
   "outputs": [],
   "source": [
    "objects, connections = load_from_json('../JSON/test_architecture.json')"
   ]
  },
  {
   "cell_type": "code",
   "execution_count": 3,
   "metadata": {},
   "outputs": [
    {
     "name": "stdout",
     "output_type": "stream",
     "text": [
      "Flip\n",
      "Gauss Input 2\n",
      "Projection\n",
      "Projection 2\n",
      "Spatial Template\n",
      "Group 1.Component Multiply\n",
      "Group 1.Neural Field\n",
      "Group 1.Static Gain\n",
      "Group 2.Gauss Input\n",
      "Group 2.Neural Field 2\n"
     ]
    }
   ],
   "source": [
    "model = nengo.Network()\n",
    "\n",
    "with model:\n",
    "    nengo_objects = {}\n",
    "    for ob_key in objects:\n",
    "        print(ob_key)\n",
    "        name, instance = parse_cedar_params(objects[ob_key])\n",
    "        instance.make_node()\n",
    "        nengo_objects[name] = instance"
   ]
  },
  {
   "cell_type": "code",
   "execution_count": 4,
   "metadata": {},
   "outputs": [
    {
     "data": {
      "text/plain": [
       "{'Flip': <cedar_modules.Flip at 0x7f9e5debd8d0>,\n",
       " 'Gauss Input 2': <cedar_modules.GaussInput at 0x7f9e5debd978>,\n",
       " 'Projection': <cedar_modules.Projection at 0x7f9e5debd7f0>,\n",
       " 'Projection 2': <cedar_modules.Projection at 0x7f9e5debda20>,\n",
       " 'Spatial Template': <cedar_modules.SpatialTemplate at 0x7f9e5debda90>,\n",
       " 'Group 1.Component Multiply': <cedar_modules.ComponentMultiply at 0x7f9e5debda58>,\n",
       " 'Group 1.Neural Field': <cedar_modules.NeuralField at 0x7f9e5debdb70>,\n",
       " 'Group 1.Static Gain': <cedar_modules.StaticGain at 0x7f9e5debdbe0>,\n",
       " 'Group 2.Gauss Input': <cedar_modules.GaussInput at 0x7f9e5debdc88>,\n",
       " 'Group 2.Neural Field 2': <cedar_modules.NeuralField at 0x7f9e5dbea1d0>}"
      ]
     },
     "execution_count": 4,
     "metadata": {},
     "output_type": "execute_result"
    }
   ],
   "source": [
    "nengo_objects"
   ]
  },
  {
   "cell_type": "code",
   "execution_count": 5,
   "metadata": {},
   "outputs": [],
   "source": [
    "def make_connection(source_name, target_name, object_dict):\n",
    "    source = source_name.rsplit('.',1)[0]\n",
    "    target = target_name.rsplit('.',1)[0]\n",
    "    \n",
    "    # there are two special cases where the type of object\n",
    "    # changes the connection that is made \n",
    "    # 1. special case: the target is a ComponentMultiply\n",
    "    if object_dict[target].__class__.__name__ == 'ComponentMultiply':\n",
    "        target_obj = object_dict[target]\n",
    "        if object_dict[target].connections == 0:\n",
    "            # connect to the first entries\n",
    "            nengo.Connection(object_dict[source].node, \n",
    "                             target_obj.node[:np.product(target_obj.inp_size1)],\n",
    "                             synapse=0)\n",
    "            object_dict[target].connections += 1\n",
    "        elif object_dict[target].connections == 1:\n",
    "            # connect to the last entries\n",
    "            nengo.Connection(object_dict[source].node, \n",
    "                             target_obj.node[np.product(target_obj.inp_size1):],\n",
    "                             synapse=0)\n",
    "            # count plus 1 again to realize when trying to add a third connection\n",
    "            object_dict[target].connections += 1\n",
    "        else:\n",
    "            print('Too many connections for ComponentMultiply!')\n",
    "    # 2. special case: the target is a Convolution\n",
    "    elif object_dict[target].__class__.__name__ == 'Convolution':\n",
    "        # the source can be the kernel or the matrix\n",
    "        target_obj = object_dict[target]\n",
    "        if target_name.rsplit('.',1)[1] == 'kernel':\n",
    "            nengo.Connection(object_dict[source].node, \n",
    "                             target_obj.node[:np.prod(target_obj.sizes)],\n",
    "                             synapse=0)\n",
    "        # if it's not the kernel, it's the matrix\n",
    "        else:\n",
    "            nengo.Connection(object_dict[source].node, \n",
    "                             target_obj.node[:np.prod(target_obj.sizes)],\n",
    "                             synapse=0)\n",
    "    # just normal connection\n",
    "    else:\n",
    "        nengo.Connection(object_dict[source].node, object_dict[target].node,\n",
    "                         synapse=0)\n",
    "            \n",
    "    "
   ]
  },
  {
   "cell_type": "code",
   "execution_count": 6,
   "metadata": {},
   "outputs": [
    {
     "name": "stdout",
     "output_type": "stream",
     "text": [
      "Group 1.Static Gain.output Flip.input\n",
      "Group 2.Neural Field 2.sigmoided activation Projection.input\n",
      "Group 2.Neural Field 2.sigmoided activation Projection 2.input\n",
      "Gauss Input 2.Gauss input Group 1.Component Multiply.operands\n",
      "Spatial Template.spatial pattern Group 1.Component Multiply.operands\n",
      "Spatial Template.spatial pattern Group 1.Static Gain.input\n",
      "Group 1.Neural Field.sigmoided activation Group 2.Neural Field 2.input\n",
      "Group 1.Component Multiply.product Group 1.Neural Field.input\n",
      "Group 1.Static Gain.output Group 1.Neural Field.input\n",
      "Group 2.Gauss Input.Gauss input Group 2.Neural Field 2.input\n"
     ]
    }
   ],
   "source": [
    "with model:\n",
    "    for connection in connections:\n",
    "        print(connection[0][1], connection[1][1])\n",
    "        make_connection(connection[0][1], connection[1][1], nengo_objects)\n",
    "    \n",
    "    probes = {}\n",
    "    for key in nengo_objects:\n",
    "        probes[key] = nengo.Probe(nengo_objects[key].node)"
   ]
  },
  {
   "cell_type": "code",
   "execution_count": 7,
   "metadata": {},
   "outputs": [
    {
     "data": {
      "text/html": [
       "\n",
       "                <div id=\"28cfa12c-ef76-4130-965d-c60842f6c71f\" style=\"\n",
       "                    width: 100%;\n",
       "                    border: 1px solid #cfcfcf;\n",
       "                    border-radius: 4px;\n",
       "                    text-align: center;\n",
       "                    position: relative;\">\n",
       "                  <div class=\"pb-text\" style=\"\n",
       "                      position: absolute;\n",
       "                      width: 100%;\">\n",
       "                    0%\n",
       "                  </div>\n",
       "                  <div class=\"pb-fill\" style=\"\n",
       "                      background-color: #bdd2e6;\n",
       "                      width: 0%;\">\n",
       "                    <style type=\"text/css\" scoped=\"scoped\">\n",
       "                        @keyframes pb-fill-anim {\n",
       "                            0% { background-position: 0 0; }\n",
       "                            100% { background-position: 100px 0; }\n",
       "                        }\n",
       "                    </style>\n",
       "                    &nbsp;\n",
       "                  </div>\n",
       "                </div>"
      ],
      "text/plain": [
       "HtmlProgressBar cannot be displayed. Please use the TerminalProgressBar. It can be enabled with `nengo.rc.set('progress', 'progress_bar', 'nengo.utils.progress.TerminalProgressBar')`."
      ]
     },
     "metadata": {},
     "output_type": "display_data"
    },
    {
     "data": {
      "application/javascript": [
       "\n",
       "              (function () {\n",
       "                  var root = document.getElementById('28cfa12c-ef76-4130-965d-c60842f6c71f');\n",
       "                  var text = root.getElementsByClassName('pb-text')[0];\n",
       "                  var fill = root.getElementsByClassName('pb-fill')[0];\n",
       "\n",
       "                  text.innerHTML = 'Build finished in 0:00:01.';\n",
       "                  \n",
       "            fill.style.width = '100%';\n",
       "            fill.style.animation = 'pb-fill-anim 2s linear infinite';\n",
       "            fill.style.backgroundSize = '100px 100%';\n",
       "            fill.style.backgroundImage = 'repeating-linear-gradient(' +\n",
       "                '90deg, #bdd2e6, #edf2f8 40%, #bdd2e6 80%, #bdd2e6)';\n",
       "        \n",
       "                  \n",
       "                fill.style.animation = 'none';\n",
       "                fill.style.backgroundImage = 'none';\n",
       "            \n",
       "              })();\n",
       "        "
      ],
      "text/plain": [
       "<IPython.core.display.Javascript object>"
      ]
     },
     "metadata": {},
     "output_type": "display_data"
    },
    {
     "data": {
      "text/html": [
       "\n",
       "                <div id=\"114e2a5e-7a83-47b0-8e69-0197ca7d477f\" style=\"\n",
       "                    width: 100%;\n",
       "                    border: 1px solid #cfcfcf;\n",
       "                    border-radius: 4px;\n",
       "                    text-align: center;\n",
       "                    position: relative;\">\n",
       "                  <div class=\"pb-text\" style=\"\n",
       "                      position: absolute;\n",
       "                      width: 100%;\">\n",
       "                    0%\n",
       "                  </div>\n",
       "                  <div class=\"pb-fill\" style=\"\n",
       "                      background-color: #bdd2e6;\n",
       "                      width: 0%;\">\n",
       "                    <style type=\"text/css\" scoped=\"scoped\">\n",
       "                        @keyframes pb-fill-anim {\n",
       "                            0% { background-position: 0 0; }\n",
       "                            100% { background-position: 100px 0; }\n",
       "                        }\n",
       "                    </style>\n",
       "                    &nbsp;\n",
       "                  </div>\n",
       "                </div>"
      ],
      "text/plain": [
       "HtmlProgressBar cannot be displayed. Please use the TerminalProgressBar. It can be enabled with `nengo.rc.set('progress', 'progress_bar', 'nengo.utils.progress.TerminalProgressBar')`."
      ]
     },
     "metadata": {},
     "output_type": "display_data"
    },
    {
     "data": {
      "application/javascript": [
       "\n",
       "              (function () {\n",
       "                  var root = document.getElementById('114e2a5e-7a83-47b0-8e69-0197ca7d477f');\n",
       "                  var text = root.getElementsByClassName('pb-text')[0];\n",
       "                  var fill = root.getElementsByClassName('pb-fill')[0];\n",
       "\n",
       "                  text.innerHTML = 'Simulation finished in 0:00:01.';\n",
       "                  \n",
       "            if (100.0 > 0.) {\n",
       "                fill.style.transition = 'width 0.1s linear';\n",
       "            } else {\n",
       "                fill.style.transition = 'none';\n",
       "            }\n",
       "\n",
       "            fill.style.width = '100.0%';\n",
       "            fill.style.animation = 'none';\n",
       "            fill.style.backgroundImage = 'none'\n",
       "        \n",
       "                  \n",
       "                fill.style.animation = 'none';\n",
       "                fill.style.backgroundImage = 'none';\n",
       "            \n",
       "              })();\n",
       "        "
      ],
      "text/plain": [
       "<IPython.core.display.Javascript object>"
      ]
     },
     "metadata": {},
     "output_type": "display_data"
    }
   ],
   "source": [
    "sim = nengo.Simulator(model)\n",
    "with sim:\n",
    "    sim.run(0.1)"
   ]
  },
  {
   "cell_type": "code",
   "execution_count": 8,
   "metadata": {},
   "outputs": [
    {
     "data": {
      "image/png": "[encoded data removed]",
      "text/plain": [
       "<Figure size 1080x432 with 10 Axes>"
      ]
     },
     "metadata": {
      "needs_background": "light"
     },
     "output_type": "display_data"
    }
   ],
   "source": [
    "plt.figure(figsize=(15,6))\n",
    "for i, key in enumerate(probes):\n",
    "    plt.subplot(2,5, i+1)\n",
    "    probe_data = sim.data[probes[key]]\n",
    "    if probe_data.shape[1] == 2500:\n",
    "        plt.title(key)\n",
    "        plt.imshow(probe_data[10,:].reshape(50,50), cmap='jet')\n",
    "    else:\n",
    "        plt.title(key)\n",
    "        plt.plot(probe_data[10,:])\n",
    "        \n",
    "plt.show()\n",
    "        "
   ]
  }
 ],
 "metadata": {
  "kernelspec": {
   "display_name": "Python 3",
   "language": "python",
   "name": "python3"
  },
  "language_info": {
   "codemirror_mode": {
    "name": "ipython",
    "version": 3
   },
   "file_extension": ".py",
   "mimetype": "text/x-python",
   "name": "python",
   "nbconvert_exporter": "python",
   "pygments_lexer": "ipython3",
   "version": "3.7.3"
  }
 },
 "nbformat": 4,
 "nbformat_minor": 2
}
