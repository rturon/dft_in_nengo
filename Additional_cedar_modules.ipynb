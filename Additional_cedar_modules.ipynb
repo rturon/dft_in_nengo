{
 "cells": [
  {
   "cell_type": "code",
   "execution_count": 133,
   "metadata": {},
   "outputs": [
    {
     "data": {
      "text/html": [
       "<style>.container { width:100% !important; }</style>"
      ],
      "text/plain": [
       "<IPython.core.display.HTML object>"
      ]
     },
     "metadata": {},
     "output_type": "display_data"
    }
   ],
   "source": [
    "import numpy as np\n",
    "import nengo\n",
    "import matplotlib.pyplot as plt\n",
    "import scipy.signal\n",
    "\n",
    "from IPython.core.display import display, HTML\n",
    "display(HTML(\"<style>.container { width:100% !important; }</style>\"))\n",
    "\n",
    "%matplotlib inline"
   ]
  },
  {
   "cell_type": "markdown",
   "metadata": {},
   "source": [
    "# GaussInput"
   ]
  },
  {
   "cell_type": "code",
   "execution_count": 2,
   "metadata": {},
   "outputs": [],
   "source": [
    "def one_dimensional_peak(p, std, a, size=10):\n",
    "    x = np.arange(size)\n",
    "\n",
    "    activations = a * np.exp(-0.5*(x-p)**2/std**2)\n",
    "\n",
    "    return activations\n",
    "\n",
    "def two_dimensional_peak(p, std, a, size=[10,10]):\n",
    "    \n",
    "    x = np.arange(size[0])\n",
    "    y = np.arange(size[1])\n",
    "    grid_x, grid_y = np.meshgrid(x, y)\n",
    "    \n",
    "\n",
    "    activations = a * np.exp(-0.5*((grid_x - p[0])**2/std[0]**2 + \\\n",
    "                                   (grid_y - p[1])**2/std[1]**2))\n",
    "\n",
    "    return activations\n",
    "\n",
    "def three_dimensional_peak(p, std, a, size=[10,10,10]):\n",
    "    x = np.arange(size[0])\n",
    "    y = np.arange(size[1])\n",
    "    z = np.arange(size[2])\n",
    "    grid_x, grid_y, grid_z = np.meshgrid(x, y, z)\n",
    "\n",
    "    activations = a * np.exp(-0.5 * ((grid_x - p[0])**2 /std[0]**2 + \\\n",
    "                                     (grid_y - p[1])**2 /std[1]**2 + \\\n",
    "                                     (grid_z - p[2])**2 /std[2]**2))\n",
    "\n",
    "    return activations\n",
    "\n",
    "def make_gaussian(sizes, centers, sigmas, a):\n",
    "    if len(sizes) == 1:\n",
    "        activations = one_dimensional_peak(centers[0], sigmas[0], a, sizes[0])\n",
    "        \n",
    "    elif len(sizes) == 2:\n",
    "        activations = two_dimensional_peak(centers, sigmas, a, sizes)\n",
    "        \n",
    "    elif len(sizes) == 3:\n",
    "        activations = three_dimensional_peak(centers, sigmas, a, sizes)\n",
    "        \n",
    "    # TODO: what to do if len(sizes) not between 1 and 3?\n",
    "    return activations"
   ]
  },
  {
   "cell_type": "code",
   "execution_count": 3,
   "metadata": {},
   "outputs": [],
   "source": [
    "class GaussInput(object):\n",
    "    def __init__(self, sizes, centers, sigmas, a):\n",
    "        \n",
    "        # add asserts to check if sizes same length as centers and sigmas\n",
    "        self.sizes = sizes\n",
    "        self.centers = centers\n",
    "        self.sigmas = sigmas\n",
    "        self.a = a\n",
    "        \n",
    "    def make_node(self):\n",
    "        return nengo.Node(make_gaussian(self.sizes, self.centers, self.sigmas, self.a).flatten())"
   ]
  },
  {
   "cell_type": "code",
   "execution_count": 4,
   "metadata": {},
   "outputs": [
    {
     "data": {
      "text/html": [
       "\n",
       "                <div id=\"c6269a51-1813-4295-b57d-18a73d7b2f56\" style=\"\n",
       "                    width: 100%;\n",
       "                    border: 1px solid #cfcfcf;\n",
       "                    border-radius: 4px;\n",
       "                    text-align: center;\n",
       "                    position: relative;\">\n",
       "                  <div class=\"pb-text\" style=\"\n",
       "                      position: absolute;\n",
       "                      width: 100%;\">\n",
       "                    0%\n",
       "                  </div>\n",
       "                  <div class=\"pb-fill\" style=\"\n",
       "                      background-color: #bdd2e6;\n",
       "                      width: 0%;\">\n",
       "                    <style type=\"text/css\" scoped=\"scoped\">\n",
       "                        @keyframes pb-fill-anim {\n",
       "                            0% { background-position: 0 0; }\n",
       "                            100% { background-position: 100px 0; }\n",
       "                        }\n",
       "                    </style>\n",
       "                    &nbsp;\n",
       "                  </div>\n",
       "                </div>"
      ],
      "text/plain": [
       "HtmlProgressBar cannot be displayed. Please use the TerminalProgressBar. It can be enabled with `nengo.rc.set('progress', 'progress_bar', 'nengo.utils.progress.TerminalProgressBar')`."
      ]
     },
     "metadata": {},
     "output_type": "display_data"
    },
    {
     "data": {
      "application/javascript": [
       "\n",
       "              (function () {\n",
       "                  var root = document.getElementById('c6269a51-1813-4295-b57d-18a73d7b2f56');\n",
       "                  var text = root.getElementsByClassName('pb-text')[0];\n",
       "                  var fill = root.getElementsByClassName('pb-fill')[0];\n",
       "\n",
       "                  text.innerHTML = 'Build finished in 0:00:01.';\n",
       "                  \n",
       "            fill.style.width = '100%';\n",
       "            fill.style.animation = 'pb-fill-anim 2s linear infinite';\n",
       "            fill.style.backgroundSize = '100px 100%';\n",
       "            fill.style.backgroundImage = 'repeating-linear-gradient(' +\n",
       "                '90deg, #bdd2e6, #edf2f8 40%, #bdd2e6 80%, #bdd2e6)';\n",
       "        \n",
       "                  \n",
       "                fill.style.animation = 'none';\n",
       "                fill.style.backgroundImage = 'none';\n",
       "            \n",
       "              })();\n",
       "        "
      ],
      "text/plain": [
       "<IPython.core.display.Javascript object>"
      ]
     },
     "metadata": {},
     "output_type": "display_data"
    },
    {
     "data": {
      "text/html": [
       "\n",
       "                <div id=\"7098c983-e795-41c4-98c9-5f602adbd478\" style=\"\n",
       "                    width: 100%;\n",
       "                    border: 1px solid #cfcfcf;\n",
       "                    border-radius: 4px;\n",
       "                    text-align: center;\n",
       "                    position: relative;\">\n",
       "                  <div class=\"pb-text\" style=\"\n",
       "                      position: absolute;\n",
       "                      width: 100%;\">\n",
       "                    0%\n",
       "                  </div>\n",
       "                  <div class=\"pb-fill\" style=\"\n",
       "                      background-color: #bdd2e6;\n",
       "                      width: 0%;\">\n",
       "                    <style type=\"text/css\" scoped=\"scoped\">\n",
       "                        @keyframes pb-fill-anim {\n",
       "                            0% { background-position: 0 0; }\n",
       "                            100% { background-position: 100px 0; }\n",
       "                        }\n",
       "                    </style>\n",
       "                    &nbsp;\n",
       "                  </div>\n",
       "                </div>"
      ],
      "text/plain": [
       "HtmlProgressBar cannot be displayed. Please use the TerminalProgressBar. It can be enabled with `nengo.rc.set('progress', 'progress_bar', 'nengo.utils.progress.TerminalProgressBar')`."
      ]
     },
     "metadata": {},
     "output_type": "display_data"
    },
    {
     "data": {
      "application/javascript": [
       "\n",
       "              (function () {\n",
       "                  var root = document.getElementById('7098c983-e795-41c4-98c9-5f602adbd478');\n",
       "                  var text = root.getElementsByClassName('pb-text')[0];\n",
       "                  var fill = root.getElementsByClassName('pb-fill')[0];\n",
       "\n",
       "                  text.innerHTML = 'Simulation finished in 0:00:01.';\n",
       "                  \n",
       "            if (100.0 > 0.) {\n",
       "                fill.style.transition = 'width 0.1s linear';\n",
       "            } else {\n",
       "                fill.style.transition = 'none';\n",
       "            }\n",
       "\n",
       "            fill.style.width = '100.0%';\n",
       "            fill.style.animation = 'none';\n",
       "            fill.style.backgroundImage = 'none'\n",
       "        \n",
       "                  \n",
       "                fill.style.animation = 'none';\n",
       "                fill.style.backgroundImage = 'none';\n",
       "            \n",
       "              })();\n",
       "        "
      ],
      "text/plain": [
       "<IPython.core.display.Javascript object>"
      ]
     },
     "metadata": {},
     "output_type": "display_data"
    }
   ],
   "source": [
    "model1 = nengo.Network()\n",
    "\n",
    "with model1:\n",
    "    \n",
    "    gi = GaussInput([10,10], [2,4], [2,2], 3).make_node()\n",
    "    \n",
    "    probe_gi = nengo.Probe(gi)\n",
    "    \n",
    "sim1 = nengo.Simulator(model1)\n",
    "with sim1:\n",
    "    sim1.run(0.01)"
   ]
  },
  {
   "cell_type": "code",
   "execution_count": 5,
   "metadata": {},
   "outputs": [
    {
     "data": {
      "image/png": "[encoded data removed]",
      "text/plain": [
       "<Figure size 432x288 with 1 Axes>"
      ]
     },
     "metadata": {
      "needs_background": "light"
     },
     "output_type": "display_data"
    }
   ],
   "source": [
    "# check GaussInput\n",
    "\n",
    "plt.figure()\n",
    "plt.imshow(sim1.data[probe_gi][1].reshape(10,10))\n",
    "plt.show()"
   ]
  },
  {
   "cell_type": "markdown",
   "metadata": {},
   "source": [
    "# ConstMatrix"
   ]
  },
  {
   "cell_type": "code",
   "execution_count": 6,
   "metadata": {},
   "outputs": [],
   "source": [
    "class ConstMatrix(object):\n",
    "    def __init__(self, sizes, value):\n",
    "        self.sizes = sizes\n",
    "        self.value = value\n",
    "        \n",
    "    def make_node(self):\n",
    "        return nengo.Node(np.ones(np.prod(self.sizes))*self.value)"
   ]
  },
  {
   "cell_type": "code",
   "execution_count": 7,
   "metadata": {},
   "outputs": [
    {
     "data": {
      "text/html": [
       "\n",
       "                <div id=\"c33530b0-ca21-4e7d-b217-64cef7cebd1c\" style=\"\n",
       "                    width: 100%;\n",
       "                    border: 1px solid #cfcfcf;\n",
       "                    border-radius: 4px;\n",
       "                    text-align: center;\n",
       "                    position: relative;\">\n",
       "                  <div class=\"pb-text\" style=\"\n",
       "                      position: absolute;\n",
       "                      width: 100%;\">\n",
       "                    0%\n",
       "                  </div>\n",
       "                  <div class=\"pb-fill\" style=\"\n",
       "                      background-color: #bdd2e6;\n",
       "                      width: 0%;\">\n",
       "                    <style type=\"text/css\" scoped=\"scoped\">\n",
       "                        @keyframes pb-fill-anim {\n",
       "                            0% { background-position: 0 0; }\n",
       "                            100% { background-position: 100px 0; }\n",
       "                        }\n",
       "                    </style>\n",
       "                    &nbsp;\n",
       "                  </div>\n",
       "                </div>"
      ],
      "text/plain": [
       "HtmlProgressBar cannot be displayed. Please use the TerminalProgressBar. It can be enabled with `nengo.rc.set('progress', 'progress_bar', 'nengo.utils.progress.TerminalProgressBar')`."
      ]
     },
     "metadata": {},
     "output_type": "display_data"
    },
    {
     "data": {
      "application/javascript": [
       "\n",
       "              (function () {\n",
       "                  var root = document.getElementById('c33530b0-ca21-4e7d-b217-64cef7cebd1c');\n",
       "                  var text = root.getElementsByClassName('pb-text')[0];\n",
       "                  var fill = root.getElementsByClassName('pb-fill')[0];\n",
       "\n",
       "                  text.innerHTML = 'Build finished in 0:00:01.';\n",
       "                  \n",
       "            fill.style.width = '100%';\n",
       "            fill.style.animation = 'pb-fill-anim 2s linear infinite';\n",
       "            fill.style.backgroundSize = '100px 100%';\n",
       "            fill.style.backgroundImage = 'repeating-linear-gradient(' +\n",
       "                '90deg, #bdd2e6, #edf2f8 40%, #bdd2e6 80%, #bdd2e6)';\n",
       "        \n",
       "                  \n",
       "                fill.style.animation = 'none';\n",
       "                fill.style.backgroundImage = 'none';\n",
       "            \n",
       "              })();\n",
       "        "
      ],
      "text/plain": [
       "<IPython.core.display.Javascript object>"
      ]
     },
     "metadata": {},
     "output_type": "display_data"
    },
    {
     "data": {
      "text/html": [
       "\n",
       "                <div id=\"5ff8d350-b19d-4052-a7f5-88a57f3f1e15\" style=\"\n",
       "                    width: 100%;\n",
       "                    border: 1px solid #cfcfcf;\n",
       "                    border-radius: 4px;\n",
       "                    text-align: center;\n",
       "                    position: relative;\">\n",
       "                  <div class=\"pb-text\" style=\"\n",
       "                      position: absolute;\n",
       "                      width: 100%;\">\n",
       "                    0%\n",
       "                  </div>\n",
       "                  <div class=\"pb-fill\" style=\"\n",
       "                      background-color: #bdd2e6;\n",
       "                      width: 0%;\">\n",
       "                    <style type=\"text/css\" scoped=\"scoped\">\n",
       "                        @keyframes pb-fill-anim {\n",
       "                            0% { background-position: 0 0; }\n",
       "                            100% { background-position: 100px 0; }\n",
       "                        }\n",
       "                    </style>\n",
       "                    &nbsp;\n",
       "                  </div>\n",
       "                </div>"
      ],
      "text/plain": [
       "HtmlProgressBar cannot be displayed. Please use the TerminalProgressBar. It can be enabled with `nengo.rc.set('progress', 'progress_bar', 'nengo.utils.progress.TerminalProgressBar')`."
      ]
     },
     "metadata": {},
     "output_type": "display_data"
    },
    {
     "data": {
      "application/javascript": [
       "\n",
       "              (function () {\n",
       "                  var root = document.getElementById('5ff8d350-b19d-4052-a7f5-88a57f3f1e15');\n",
       "                  var text = root.getElementsByClassName('pb-text')[0];\n",
       "                  var fill = root.getElementsByClassName('pb-fill')[0];\n",
       "\n",
       "                  text.innerHTML = 'Simulation finished in 0:00:01.';\n",
       "                  \n",
       "            if (100.0 > 0.) {\n",
       "                fill.style.transition = 'width 0.1s linear';\n",
       "            } else {\n",
       "                fill.style.transition = 'none';\n",
       "            }\n",
       "\n",
       "            fill.style.width = '100.0%';\n",
       "            fill.style.animation = 'none';\n",
       "            fill.style.backgroundImage = 'none'\n",
       "        \n",
       "                  \n",
       "                fill.style.animation = 'none';\n",
       "                fill.style.backgroundImage = 'none';\n",
       "            \n",
       "              })();\n",
       "        "
      ],
      "text/plain": [
       "<IPython.core.display.Javascript object>"
      ]
     },
     "metadata": {},
     "output_type": "display_data"
    }
   ],
   "source": [
    "model2 = nengo.Network()\n",
    "\n",
    "with model2:\n",
    "    \n",
    "    cm = ConstMatrix([10,10], 42).make_node()\n",
    "    \n",
    "    probe_cm = nengo.Probe(cm)\n",
    "    \n",
    "sim2 = nengo.Simulator(model2)\n",
    "with sim2:\n",
    "    sim2.run(0.01)"
   ]
  },
  {
   "cell_type": "code",
   "execution_count": 8,
   "metadata": {},
   "outputs": [
    {
     "name": "stdout",
     "output_type": "stream",
     "text": [
      "[42. 42. 42. 42. 42. 42. 42. 42. 42. 42. 42. 42. 42. 42. 42. 42. 42. 42.\n",
      " 42. 42. 42. 42. 42. 42. 42. 42. 42. 42. 42. 42. 42. 42. 42. 42. 42. 42.\n",
      " 42. 42. 42. 42. 42. 42. 42. 42. 42. 42. 42. 42. 42. 42. 42. 42. 42. 42.\n",
      " 42. 42. 42. 42. 42. 42. 42. 42. 42. 42. 42. 42. 42. 42. 42. 42. 42. 42.\n",
      " 42. 42. 42. 42. 42. 42. 42. 42. 42. 42. 42. 42. 42. 42. 42. 42. 42. 42.\n",
      " 42. 42. 42. 42. 42. 42. 42. 42. 42. 42.]\n"
     ]
    }
   ],
   "source": [
    "print(sim2.data[probe_cm][1])"
   ]
  },
  {
   "cell_type": "markdown",
   "metadata": {},
   "source": [
    "# ComponentMultiply"
   ]
  },
  {
   "cell_type": "code",
   "execution_count": 9,
   "metadata": {},
   "outputs": [],
   "source": [
    "class ComponentMultiply(object):\n",
    "    def __init__(self, sizes):\n",
    "        self.sizes = sizes\n",
    "        \n",
    "    def update(self, inp):\n",
    "        size = np.prod(self.sizes)\n",
    "        inp1 = inp[:size]\n",
    "        inp2 = inp[size:]\n",
    "        \n",
    "        return inp1 * inp2\n",
    "    \n",
    "    def make_node(self):\n",
    "        return nengo.Node(lambda t, x: self.update(x), size_in=np.prod(self.sizes)*2, \n",
    "                          size_out=np.prod(self.sizes))"
   ]
  },
  {
   "cell_type": "code",
   "execution_count": 10,
   "metadata": {},
   "outputs": [
    {
     "data": {
      "text/html": [
       "\n",
       "                <div id=\"a6a6df66-4028-4c3f-9fec-351eef958e34\" style=\"\n",
       "                    width: 100%;\n",
       "                    border: 1px solid #cfcfcf;\n",
       "                    border-radius: 4px;\n",
       "                    text-align: center;\n",
       "                    position: relative;\">\n",
       "                  <div class=\"pb-text\" style=\"\n",
       "                      position: absolute;\n",
       "                      width: 100%;\">\n",
       "                    0%\n",
       "                  </div>\n",
       "                  <div class=\"pb-fill\" style=\"\n",
       "                      background-color: #bdd2e6;\n",
       "                      width: 0%;\">\n",
       "                    <style type=\"text/css\" scoped=\"scoped\">\n",
       "                        @keyframes pb-fill-anim {\n",
       "                            0% { background-position: 0 0; }\n",
       "                            100% { background-position: 100px 0; }\n",
       "                        }\n",
       "                    </style>\n",
       "                    &nbsp;\n",
       "                  </div>\n",
       "                </div>"
      ],
      "text/plain": [
       "HtmlProgressBar cannot be displayed. Please use the TerminalProgressBar. It can be enabled with `nengo.rc.set('progress', 'progress_bar', 'nengo.utils.progress.TerminalProgressBar')`."
      ]
     },
     "metadata": {},
     "output_type": "display_data"
    },
    {
     "data": {
      "application/javascript": [
       "\n",
       "              (function () {\n",
       "                  var root = document.getElementById('a6a6df66-4028-4c3f-9fec-351eef958e34');\n",
       "                  var text = root.getElementsByClassName('pb-text')[0];\n",
       "                  var fill = root.getElementsByClassName('pb-fill')[0];\n",
       "\n",
       "                  text.innerHTML = 'Build finished in 0:00:01.';\n",
       "                  \n",
       "            fill.style.width = '100%';\n",
       "            fill.style.animation = 'pb-fill-anim 2s linear infinite';\n",
       "            fill.style.backgroundSize = '100px 100%';\n",
       "            fill.style.backgroundImage = 'repeating-linear-gradient(' +\n",
       "                '90deg, #bdd2e6, #edf2f8 40%, #bdd2e6 80%, #bdd2e6)';\n",
       "        \n",
       "                  \n",
       "                fill.style.animation = 'none';\n",
       "                fill.style.backgroundImage = 'none';\n",
       "            \n",
       "              })();\n",
       "        "
      ],
      "text/plain": [
       "<IPython.core.display.Javascript object>"
      ]
     },
     "metadata": {},
     "output_type": "display_data"
    },
    {
     "data": {
      "text/html": [
       "\n",
       "                <div id=\"f5fb03d8-6306-4e03-8f64-ae96968a1f3b\" style=\"\n",
       "                    width: 100%;\n",
       "                    border: 1px solid #cfcfcf;\n",
       "                    border-radius: 4px;\n",
       "                    text-align: center;\n",
       "                    position: relative;\">\n",
       "                  <div class=\"pb-text\" style=\"\n",
       "                      position: absolute;\n",
       "                      width: 100%;\">\n",
       "                    0%\n",
       "                  </div>\n",
       "                  <div class=\"pb-fill\" style=\"\n",
       "                      background-color: #bdd2e6;\n",
       "                      width: 0%;\">\n",
       "                    <style type=\"text/css\" scoped=\"scoped\">\n",
       "                        @keyframes pb-fill-anim {\n",
       "                            0% { background-position: 0 0; }\n",
       "                            100% { background-position: 100px 0; }\n",
       "                        }\n",
       "                    </style>\n",
       "                    &nbsp;\n",
       "                  </div>\n",
       "                </div>"
      ],
      "text/plain": [
       "HtmlProgressBar cannot be displayed. Please use the TerminalProgressBar. It can be enabled with `nengo.rc.set('progress', 'progress_bar', 'nengo.utils.progress.TerminalProgressBar')`."
      ]
     },
     "metadata": {},
     "output_type": "display_data"
    },
    {
     "data": {
      "application/javascript": [
       "\n",
       "              (function () {\n",
       "                  var root = document.getElementById('f5fb03d8-6306-4e03-8f64-ae96968a1f3b');\n",
       "                  var text = root.getElementsByClassName('pb-text')[0];\n",
       "                  var fill = root.getElementsByClassName('pb-fill')[0];\n",
       "\n",
       "                  text.innerHTML = 'Simulation finished in 0:00:01.';\n",
       "                  \n",
       "            if (100.0 > 0.) {\n",
       "                fill.style.transition = 'width 0.1s linear';\n",
       "            } else {\n",
       "                fill.style.transition = 'none';\n",
       "            }\n",
       "\n",
       "            fill.style.width = '100.0%';\n",
       "            fill.style.animation = 'none';\n",
       "            fill.style.backgroundImage = 'none'\n",
       "        \n",
       "                  \n",
       "                fill.style.animation = 'none';\n",
       "                fill.style.backgroundImage = 'none';\n",
       "            \n",
       "              })();\n",
       "        "
      ],
      "text/plain": [
       "<IPython.core.display.Javascript object>"
      ]
     },
     "metadata": {},
     "output_type": "display_data"
    }
   ],
   "source": [
    "model3 = nengo.Network()\n",
    "\n",
    "with model3:\n",
    "    \n",
    "    inp1 = nengo.Node(np.arange(16))\n",
    "    inp2 = nengo.Node(np.ones(16)*3)\n",
    "    compmul = ComponentMultiply([4,4]).make_node()\n",
    "    \n",
    "    nengo.Connection(inp1, compmul[:16], synapse=0)\n",
    "    nengo.Connection(inp2, compmul[16:], synapse=0)\n",
    "    \n",
    "    probe_compmul = nengo.Probe(compmul)\n",
    "    \n",
    "sim3 = nengo.Simulator(model3)\n",
    "with sim3:\n",
    "    sim3.run(0.01)"
   ]
  },
  {
   "cell_type": "code",
   "execution_count": 11,
   "metadata": {},
   "outputs": [
    {
     "name": "stdout",
     "output_type": "stream",
     "text": [
      "[[ 0.  0.  0.  0.  0.  0.  0.  0.  0.  0.  0.  0.  0.  0.  0.  0.]\n",
      " [ 0.  3.  6.  9. 12. 15. 18. 21. 24. 27. 30. 33. 36. 39. 42. 45.]\n",
      " [ 0.  3.  6.  9. 12. 15. 18. 21. 24. 27. 30. 33. 36. 39. 42. 45.]]\n"
     ]
    }
   ],
   "source": [
    "print(sim3.data[probe_compmul][:3])"
   ]
  },
  {
   "cell_type": "markdown",
   "metadata": {},
   "source": [
    "# StaticGain"
   ]
  },
  {
   "cell_type": "code",
   "execution_count": 12,
   "metadata": {},
   "outputs": [],
   "source": [
    "class StaticGain(object):\n",
    "    def __init__(self, sizes, gain_factor):\n",
    "        self.sizes = sizes\n",
    "        self.gain_factor = gain_factor\n",
    "        \n",
    "    def update(self, inp):\n",
    "        return inp * self.gain_factor\n",
    "    \n",
    "    def make_node(self):\n",
    "        return nengo.Node(lambda t, x: self.update(x), size_in=np.prod(self.sizes))"
   ]
  },
  {
   "cell_type": "code",
   "execution_count": 13,
   "metadata": {},
   "outputs": [
    {
     "data": {
      "text/html": [
       "\n",
       "                <div id=\"a29180a8-754b-4d2e-bf93-a82ba28e59a7\" style=\"\n",
       "                    width: 100%;\n",
       "                    border: 1px solid #cfcfcf;\n",
       "                    border-radius: 4px;\n",
       "                    text-align: center;\n",
       "                    position: relative;\">\n",
       "                  <div class=\"pb-text\" style=\"\n",
       "                      position: absolute;\n",
       "                      width: 100%;\">\n",
       "                    0%\n",
       "                  </div>\n",
       "                  <div class=\"pb-fill\" style=\"\n",
       "                      background-color: #bdd2e6;\n",
       "                      width: 0%;\">\n",
       "                    <style type=\"text/css\" scoped=\"scoped\">\n",
       "                        @keyframes pb-fill-anim {\n",
       "                            0% { background-position: 0 0; }\n",
       "                            100% { background-position: 100px 0; }\n",
       "                        }\n",
       "                    </style>\n",
       "                    &nbsp;\n",
       "                  </div>\n",
       "                </div>"
      ],
      "text/plain": [
       "HtmlProgressBar cannot be displayed. Please use the TerminalProgressBar. It can be enabled with `nengo.rc.set('progress', 'progress_bar', 'nengo.utils.progress.TerminalProgressBar')`."
      ]
     },
     "metadata": {},
     "output_type": "display_data"
    },
    {
     "data": {
      "application/javascript": [
       "\n",
       "              (function () {\n",
       "                  var root = document.getElementById('a29180a8-754b-4d2e-bf93-a82ba28e59a7');\n",
       "                  var text = root.getElementsByClassName('pb-text')[0];\n",
       "                  var fill = root.getElementsByClassName('pb-fill')[0];\n",
       "\n",
       "                  text.innerHTML = 'Build finished in 0:00:01.';\n",
       "                  \n",
       "            fill.style.width = '100%';\n",
       "            fill.style.animation = 'pb-fill-anim 2s linear infinite';\n",
       "            fill.style.backgroundSize = '100px 100%';\n",
       "            fill.style.backgroundImage = 'repeating-linear-gradient(' +\n",
       "                '90deg, #bdd2e6, #edf2f8 40%, #bdd2e6 80%, #bdd2e6)';\n",
       "        \n",
       "                  \n",
       "                fill.style.animation = 'none';\n",
       "                fill.style.backgroundImage = 'none';\n",
       "            \n",
       "              })();\n",
       "        "
      ],
      "text/plain": [
       "<IPython.core.display.Javascript object>"
      ]
     },
     "metadata": {},
     "output_type": "display_data"
    },
    {
     "data": {
      "text/html": [
       "\n",
       "                <div id=\"6e53cf5f-e4e3-47b7-86f4-15c57a65d2be\" style=\"\n",
       "                    width: 100%;\n",
       "                    border: 1px solid #cfcfcf;\n",
       "                    border-radius: 4px;\n",
       "                    text-align: center;\n",
       "                    position: relative;\">\n",
       "                  <div class=\"pb-text\" style=\"\n",
       "                      position: absolute;\n",
       "                      width: 100%;\">\n",
       "                    0%\n",
       "                  </div>\n",
       "                  <div class=\"pb-fill\" style=\"\n",
       "                      background-color: #bdd2e6;\n",
       "                      width: 0%;\">\n",
       "                    <style type=\"text/css\" scoped=\"scoped\">\n",
       "                        @keyframes pb-fill-anim {\n",
       "                            0% { background-position: 0 0; }\n",
       "                            100% { background-position: 100px 0; }\n",
       "                        }\n",
       "                    </style>\n",
       "                    &nbsp;\n",
       "                  </div>\n",
       "                </div>"
      ],
      "text/plain": [
       "HtmlProgressBar cannot be displayed. Please use the TerminalProgressBar. It can be enabled with `nengo.rc.set('progress', 'progress_bar', 'nengo.utils.progress.TerminalProgressBar')`."
      ]
     },
     "metadata": {},
     "output_type": "display_data"
    },
    {
     "data": {
      "application/javascript": [
       "\n",
       "              (function () {\n",
       "                  var root = document.getElementById('6e53cf5f-e4e3-47b7-86f4-15c57a65d2be');\n",
       "                  var text = root.getElementsByClassName('pb-text')[0];\n",
       "                  var fill = root.getElementsByClassName('pb-fill')[0];\n",
       "\n",
       "                  text.innerHTML = 'Simulation finished in 0:00:01.';\n",
       "                  \n",
       "            if (100.0 > 0.) {\n",
       "                fill.style.transition = 'width 0.1s linear';\n",
       "            } else {\n",
       "                fill.style.transition = 'none';\n",
       "            }\n",
       "\n",
       "            fill.style.width = '100.0%';\n",
       "            fill.style.animation = 'none';\n",
       "            fill.style.backgroundImage = 'none'\n",
       "        \n",
       "                  \n",
       "                fill.style.animation = 'none';\n",
       "                fill.style.backgroundImage = 'none';\n",
       "            \n",
       "              })();\n",
       "        "
      ],
      "text/plain": [
       "<IPython.core.display.Javascript object>"
      ]
     },
     "metadata": {},
     "output_type": "display_data"
    }
   ],
   "source": [
    "model4 = nengo.Network()\n",
    "\n",
    "with model4:\n",
    "    \n",
    "    inp1 = nengo.Node(np.arange(16))\n",
    "    sg = StaticGain([4,4], 3).make_node()\n",
    "    \n",
    "    nengo.Connection(inp1, sg, synapse=0)\n",
    "\n",
    "    probe_sg = nengo.Probe(sg)\n",
    "    \n",
    "sim4 = nengo.Simulator(model4)\n",
    "with sim4:\n",
    "    sim4.run(0.01)"
   ]
  },
  {
   "cell_type": "code",
   "execution_count": 14,
   "metadata": {},
   "outputs": [
    {
     "name": "stdout",
     "output_type": "stream",
     "text": [
      "[[ 0.  0.  0.  0.  0.  0.  0.  0.  0.  0.  0.  0.  0.  0.  0.  0.]\n",
      " [ 0.  3.  6.  9. 12. 15. 18. 21. 24. 27. 30. 33. 36. 39. 42. 45.]\n",
      " [ 0.  3.  6.  9. 12. 15. 18. 21. 24. 27. 30. 33. 36. 39. 42. 45.]]\n"
     ]
    }
   ],
   "source": [
    "print(sim4.data[probe_sg][:3])"
   ]
  },
  {
   "cell_type": "markdown",
   "metadata": {},
   "source": [
    "# Flip"
   ]
  },
  {
   "cell_type": "code",
   "execution_count": 15,
   "metadata": {},
   "outputs": [],
   "source": [
    "class Flip(object):\n",
    "    def __init__(self, sizes, flip_dimensions):\n",
    "        self.sizes = sizes\n",
    "        self.flip_dimensions = flip_dimensions\n",
    "        \n",
    "    def update(self, inp):\n",
    "        \n",
    "        out = inp.reshape(*self.sizes)\n",
    "        if self.flip_dimensions[0]:\n",
    "            out = np.flip(out, axis=0)\n",
    "        if self.flip_dimensions[1]:\n",
    "            out = np.flip(out, axis=1)\n",
    "            \n",
    "        return out.flatten()\n",
    "    \n",
    "    def make_node(self):\n",
    "        return nengo.Node(lambda t, x: self.update(x), size_in=np.prod(self.sizes), \n",
    "                          size_out=np.prod(self.sizes))\n",
    "            "
   ]
  },
  {
   "cell_type": "code",
   "execution_count": 16,
   "metadata": {
    "scrolled": false
   },
   "outputs": [
    {
     "data": {
      "text/html": [
       "\n",
       "                <div id=\"ce8bc3c0-3453-45af-9c1b-b9888a6965fc\" style=\"\n",
       "                    width: 100%;\n",
       "                    border: 1px solid #cfcfcf;\n",
       "                    border-radius: 4px;\n",
       "                    text-align: center;\n",
       "                    position: relative;\">\n",
       "                  <div class=\"pb-text\" style=\"\n",
       "                      position: absolute;\n",
       "                      width: 100%;\">\n",
       "                    0%\n",
       "                  </div>\n",
       "                  <div class=\"pb-fill\" style=\"\n",
       "                      background-color: #bdd2e6;\n",
       "                      width: 0%;\">\n",
       "                    <style type=\"text/css\" scoped=\"scoped\">\n",
       "                        @keyframes pb-fill-anim {\n",
       "                            0% { background-position: 0 0; }\n",
       "                            100% { background-position: 100px 0; }\n",
       "                        }\n",
       "                    </style>\n",
       "                    &nbsp;\n",
       "                  </div>\n",
       "                </div>"
      ],
      "text/plain": [
       "HtmlProgressBar cannot be displayed. Please use the TerminalProgressBar. It can be enabled with `nengo.rc.set('progress', 'progress_bar', 'nengo.utils.progress.TerminalProgressBar')`."
      ]
     },
     "metadata": {},
     "output_type": "display_data"
    },
    {
     "data": {
      "application/javascript": [
       "\n",
       "              (function () {\n",
       "                  var root = document.getElementById('ce8bc3c0-3453-45af-9c1b-b9888a6965fc');\n",
       "                  var text = root.getElementsByClassName('pb-text')[0];\n",
       "                  var fill = root.getElementsByClassName('pb-fill')[0];\n",
       "\n",
       "                  text.innerHTML = 'Build finished in 0:00:01.';\n",
       "                  \n",
       "            fill.style.width = '100%';\n",
       "            fill.style.animation = 'pb-fill-anim 2s linear infinite';\n",
       "            fill.style.backgroundSize = '100px 100%';\n",
       "            fill.style.backgroundImage = 'repeating-linear-gradient(' +\n",
       "                '90deg, #bdd2e6, #edf2f8 40%, #bdd2e6 80%, #bdd2e6)';\n",
       "        \n",
       "                  \n",
       "                fill.style.animation = 'none';\n",
       "                fill.style.backgroundImage = 'none';\n",
       "            \n",
       "              })();\n",
       "        "
      ],
      "text/plain": [
       "<IPython.core.display.Javascript object>"
      ]
     },
     "metadata": {},
     "output_type": "display_data"
    },
    {
     "data": {
      "text/html": [
       "\n",
       "                <div id=\"063880cd-8e0e-4c6d-891f-f3570e57d44a\" style=\"\n",
       "                    width: 100%;\n",
       "                    border: 1px solid #cfcfcf;\n",
       "                    border-radius: 4px;\n",
       "                    text-align: center;\n",
       "                    position: relative;\">\n",
       "                  <div class=\"pb-text\" style=\"\n",
       "                      position: absolute;\n",
       "                      width: 100%;\">\n",
       "                    0%\n",
       "                  </div>\n",
       "                  <div class=\"pb-fill\" style=\"\n",
       "                      background-color: #bdd2e6;\n",
       "                      width: 0%;\">\n",
       "                    <style type=\"text/css\" scoped=\"scoped\">\n",
       "                        @keyframes pb-fill-anim {\n",
       "                            0% { background-position: 0 0; }\n",
       "                            100% { background-position: 100px 0; }\n",
       "                        }\n",
       "                    </style>\n",
       "                    &nbsp;\n",
       "                  </div>\n",
       "                </div>"
      ],
      "text/plain": [
       "HtmlProgressBar cannot be displayed. Please use the TerminalProgressBar. It can be enabled with `nengo.rc.set('progress', 'progress_bar', 'nengo.utils.progress.TerminalProgressBar')`."
      ]
     },
     "metadata": {},
     "output_type": "display_data"
    },
    {
     "data": {
      "application/javascript": [
       "\n",
       "              (function () {\n",
       "                  var root = document.getElementById('063880cd-8e0e-4c6d-891f-f3570e57d44a');\n",
       "                  var text = root.getElementsByClassName('pb-text')[0];\n",
       "                  var fill = root.getElementsByClassName('pb-fill')[0];\n",
       "\n",
       "                  text.innerHTML = 'Simulation finished in 0:00:01.';\n",
       "                  \n",
       "            if (100.0 > 0.) {\n",
       "                fill.style.transition = 'width 0.1s linear';\n",
       "            } else {\n",
       "                fill.style.transition = 'none';\n",
       "            }\n",
       "\n",
       "            fill.style.width = '100.0%';\n",
       "            fill.style.animation = 'none';\n",
       "            fill.style.backgroundImage = 'none'\n",
       "        \n",
       "                  \n",
       "                fill.style.animation = 'none';\n",
       "                fill.style.backgroundImage = 'none';\n",
       "            \n",
       "              })();\n",
       "        "
      ],
      "text/plain": [
       "<IPython.core.display.Javascript object>"
      ]
     },
     "metadata": {},
     "output_type": "display_data"
    }
   ],
   "source": [
    "model5 = nengo.Network()\n",
    "\n",
    "with model5:\n",
    "    \n",
    "    inp1 = nengo.Node(np.arange(16))\n",
    "    flip_tt = Flip([4,4], [True, True]).make_node()\n",
    "    flip_tf = Flip([4,4], [True, False]).make_node()\n",
    "    flip_ff = Flip([4,4], [False, False]).make_node()\n",
    "    \n",
    "    nengo.Connection(inp1, flip_tt, synapse=0)\n",
    "    nengo.Connection(inp1, flip_tf, synapse=0)\n",
    "    nengo.Connection(inp1, flip_ff, synapse=0)\n",
    "\n",
    "    probe_tt = nengo.Probe(flip_tt)\n",
    "    probe_tf = nengo.Probe(flip_tf)\n",
    "    probe_ff = nengo.Probe(flip_ff)\n",
    "    \n",
    "sim5 = nengo.Simulator(model5)\n",
    "with sim5:\n",
    "    sim5.run(0.01)"
   ]
  },
  {
   "cell_type": "code",
   "execution_count": 17,
   "metadata": {},
   "outputs": [
    {
     "name": "stdout",
     "output_type": "stream",
     "text": [
      "[15. 14. 13. 12. 11. 10.  9.  8.  7.  6.  5.  4.  3.  2.  1.  0.]\n",
      "\n",
      "[12. 13. 14. 15.  8.  9. 10. 11.  4.  5.  6.  7.  0.  1.  2.  3.]\n",
      "\n",
      "[ 0.  1.  2.  3.  4.  5.  6.  7.  8.  9. 10. 11. 12. 13. 14. 15.]\n",
      "\n"
     ]
    }
   ],
   "source": [
    "print(sim5.data[probe_tt][1])\n",
    "print()\n",
    "print(sim5.data[probe_tf][1])\n",
    "print()\n",
    "print(sim5.data[probe_ff][1])\n",
    "print()"
   ]
  },
  {
   "cell_type": "markdown",
   "metadata": {},
   "source": [
    "# Projection"
   ]
  },
  {
   "cell_type": "code",
   "execution_count": 51,
   "metadata": {},
   "outputs": [],
   "source": [
    "def reduce(inp, dimension_mapping, compression_type):\n",
    "    \n",
    "    # get axis/axes to reduce\n",
    "    axis_reduce = tuple([int(key) for key in dimension_mapping if not dimension_mapping[key]])\n",
    "    # reduce inp by using sum or max\n",
    "    if compression_type == 'sum':\n",
    "        out = np.sum(inp, axis=axis_reduce)\n",
    "    elif compression_type == 'max':\n",
    "        out = inp.max(axis=axis_reduce)\n",
    "    \n",
    "#     print('Dimension mapping:', dimension_mapping)\n",
    "#     print('Axis to reduce:', axis_reduce)\n",
    "#     print('output shape after axis reduction:', out.shape)\n",
    "    # transpose array st order of dimensions is as given in dimension mapping\n",
    "    dim_order = [int(value) for value in dimension_mapping.values() if value]\n",
    "#     print('Order:', dim_order)\n",
    "#     print()\n",
    "    out = out.transpose(*dim_order)\n",
    "    \n",
    "    return out\n",
    "\n",
    "\n",
    "def add_dimensions(inp, dimension_mapping, out_sizes):\n",
    "    \n",
    "    added_dims = list(np.arange(len(out_sizes)))\n",
    "    mapped_dims = [int(value) for value in dimension_mapping.values()]\n",
    "    [added_dims.remove(dim) for dim in mapped_dims]\n",
    "\n",
    "    # add dimensions\n",
    "    for dim in added_dims:\n",
    "        # add the dimension\n",
    "        inp = np.expand_dims(inp, axis=dim)\n",
    "        # repeat dimension to get right size\n",
    "        inp = np.repeat(inp, repeats=out_sizes[dim], axis=dim)\n",
    "        \n",
    "    return inp\n",
    "\n",
    "\n",
    "class Projection(object):\n",
    "    def __init__(self, sizes_out, sizes_in, dimension_mapping, compression_type):\n",
    "        self.sizes_out = sizes_out\n",
    "        self.sizes_in = sizes_in\n",
    "        self.dimension_mapping = dimension_mapping\n",
    "        self.compression_type = compression_type\n",
    "        \n",
    "    def update(self, inp):\n",
    "        # reshape inp\n",
    "        out = inp.reshape(*self.sizes_in)\n",
    "        \n",
    "        # either downsizing\n",
    "        if len(self.dimension_mapping) > len(self.sizes_out):\n",
    "            out = reduce(out, self.dimension_mapping, self.compression_type)\n",
    "            \n",
    "        # or upsizing\n",
    "        elif len(self.sizes_out) > len(self.dimension_mapping):\n",
    "            out = add_dimensions(out, self.dimension_mapping, self.sizes_out)\n",
    "            \n",
    "        return out.flatten()\n",
    "            \n",
    "        \n",
    "    def make_node(self):\n",
    "        return nengo.Node(lambda t, x: self.update(x), size_in=np.prod(self.sizes_in),\n",
    "                          size_out=np.prod(self.sizes_out))"
   ]
  },
  {
   "cell_type": "code",
   "execution_count": 19,
   "metadata": {
    "collapsed": true
   },
   "outputs": [
    {
     "name": "stdout",
     "output_type": "stream",
     "text": [
      "[[ 0  1  2  9 10 11 18 19 20]\n",
      " [ 3  4  5 12 13 14 21 22 23]\n",
      " [ 6  7  8 15 16 17 24 25 26]]\n",
      "\n",
      "[20 23 26]\n",
      "[20 23 26]\n"
     ]
    }
   ],
   "source": [
    "# example dimension mapping for 3 dims to 2 dims\n",
    "dm1 = {\"0\": \"1\", \"1\": False, \"2\": \"0\"} \n",
    "# example dimension mapping for 3 dims to 1 dim\n",
    "dm2 = {\"0\": False, \"1\": \"0\", \"2\": False} \n",
    "\n",
    "print(np.arange(27).reshape(3,3,3).transpose(1,0,2).reshape(3,9))\n",
    "print()\n",
    "print(reduce(np.arange(27).reshape(3,3,3), dm2, 'max'))"
   ]
  },
  {
   "cell_type": "code",
   "execution_count": 23,
   "metadata": {
    "collapsed": true
   },
   "outputs": [
    {
     "name": "stdout",
     "output_type": "stream",
     "text": [
      "[[[0 0]\n",
      "  [1 1]\n",
      "  [2 2]]\n",
      "\n",
      " [[3 3]\n",
      "  [4 4]\n",
      "  [5 5]]\n",
      "\n",
      " [[6 6]\n",
      "  [7 7]\n",
      "  [8 8]]]\n",
      "\n",
      "[[[0 1 2 3]\n",
      "  [0 1 2 3]\n",
      "  [0 1 2 3]]\n",
      "\n",
      " [[0 1 2 3]\n",
      "  [0 1 2 3]\n",
      "  [0 1 2 3]]]\n"
     ]
    }
   ],
   "source": [
    "# example dimension mapping for 2 dims to 3 dims\n",
    "dm3 = {\"0\": \"1\", \"1\": \"0\"}\n",
    "# example dimension mapping for 1 dim to 3 dims\n",
    "dm4 = {\"0\": \"2\"}\n",
    "    \n",
    "print(add_dimensions(np.arange(9).reshape(3,3), dm3, [3,3,2]))\n",
    "print()\n",
    "print(add_dimensions(np.arange(4), dm4, [2,3,4]))"
   ]
  },
  {
   "cell_type": "code",
   "execution_count": 52,
   "metadata": {},
   "outputs": [
    {
     "name": "stdout",
     "output_type": "stream",
     "text": [
      "creation of 21 node done\n"
     ]
    },
    {
     "data": {
      "text/html": [
       "\n",
       "                <div id=\"4b48d912-276a-44bf-91f1-30e09cdca6e5\" style=\"\n",
       "                    width: 100%;\n",
       "                    border: 1px solid #cfcfcf;\n",
       "                    border-radius: 4px;\n",
       "                    text-align: center;\n",
       "                    position: relative;\">\n",
       "                  <div class=\"pb-text\" style=\"\n",
       "                      position: absolute;\n",
       "                      width: 100%;\">\n",
       "                    0%\n",
       "                  </div>\n",
       "                  <div class=\"pb-fill\" style=\"\n",
       "                      background-color: #bdd2e6;\n",
       "                      width: 0%;\">\n",
       "                    <style type=\"text/css\" scoped=\"scoped\">\n",
       "                        @keyframes pb-fill-anim {\n",
       "                            0% { background-position: 0 0; }\n",
       "                            100% { background-position: 100px 0; }\n",
       "                        }\n",
       "                    </style>\n",
       "                    &nbsp;\n",
       "                  </div>\n",
       "                </div>"
      ],
      "text/plain": [
       "HtmlProgressBar cannot be displayed. Please use the TerminalProgressBar. It can be enabled with `nengo.rc.set('progress', 'progress_bar', 'nengo.utils.progress.TerminalProgressBar')`."
      ]
     },
     "metadata": {},
     "output_type": "display_data"
    },
    {
     "data": {
      "application/javascript": [
       "\n",
       "              (function () {\n",
       "                  var root = document.getElementById('4b48d912-276a-44bf-91f1-30e09cdca6e5');\n",
       "                  var text = root.getElementsByClassName('pb-text')[0];\n",
       "                  var fill = root.getElementsByClassName('pb-fill')[0];\n",
       "\n",
       "                  text.innerHTML = 'Build finished in 0:00:01.';\n",
       "                  \n",
       "            fill.style.width = '100%';\n",
       "            fill.style.animation = 'pb-fill-anim 2s linear infinite';\n",
       "            fill.style.backgroundSize = '100px 100%';\n",
       "            fill.style.backgroundImage = 'repeating-linear-gradient(' +\n",
       "                '90deg, #bdd2e6, #edf2f8 40%, #bdd2e6 80%, #bdd2e6)';\n",
       "        \n",
       "                  \n",
       "                fill.style.animation = 'none';\n",
       "                fill.style.backgroundImage = 'none';\n",
       "            \n",
       "              })();\n",
       "        "
      ],
      "text/plain": [
       "<IPython.core.display.Javascript object>"
      ]
     },
     "metadata": {},
     "output_type": "display_data"
    },
    {
     "data": {
      "text/html": [
       "\n",
       "                <div id=\"c33c7015-fd38-4750-b609-53fddad6048d\" style=\"\n",
       "                    width: 100%;\n",
       "                    border: 1px solid #cfcfcf;\n",
       "                    border-radius: 4px;\n",
       "                    text-align: center;\n",
       "                    position: relative;\">\n",
       "                  <div class=\"pb-text\" style=\"\n",
       "                      position: absolute;\n",
       "                      width: 100%;\">\n",
       "                    0%\n",
       "                  </div>\n",
       "                  <div class=\"pb-fill\" style=\"\n",
       "                      background-color: #bdd2e6;\n",
       "                      width: 0%;\">\n",
       "                    <style type=\"text/css\" scoped=\"scoped\">\n",
       "                        @keyframes pb-fill-anim {\n",
       "                            0% { background-position: 0 0; }\n",
       "                            100% { background-position: 100px 0; }\n",
       "                        }\n",
       "                    </style>\n",
       "                    &nbsp;\n",
       "                  </div>\n",
       "                </div>"
      ],
      "text/plain": [
       "HtmlProgressBar cannot be displayed. Please use the TerminalProgressBar. It can be enabled with `nengo.rc.set('progress', 'progress_bar', 'nengo.utils.progress.TerminalProgressBar')`."
      ]
     },
     "metadata": {},
     "output_type": "display_data"
    },
    {
     "data": {
      "application/javascript": [
       "\n",
       "              (function () {\n",
       "                  var root = document.getElementById('c33c7015-fd38-4750-b609-53fddad6048d');\n",
       "                  var text = root.getElementsByClassName('pb-text')[0];\n",
       "                  var fill = root.getElementsByClassName('pb-fill')[0];\n",
       "\n",
       "                  text.innerHTML = 'Simulation finished in 0:00:01.';\n",
       "                  \n",
       "            if (100.0 > 0.) {\n",
       "                fill.style.transition = 'width 0.1s linear';\n",
       "            } else {\n",
       "                fill.style.transition = 'none';\n",
       "            }\n",
       "\n",
       "            fill.style.width = '100.0%';\n",
       "            fill.style.animation = 'none';\n",
       "            fill.style.backgroundImage = 'none'\n",
       "        \n",
       "                  \n",
       "                fill.style.animation = 'none';\n",
       "                fill.style.backgroundImage = 'none';\n",
       "            \n",
       "              })();\n",
       "        "
      ],
      "text/plain": [
       "<IPython.core.display.Javascript object>"
      ]
     },
     "metadata": {},
     "output_type": "display_data"
    }
   ],
   "source": [
    "model6 = nengo.Network()\n",
    "\n",
    "with model6:\n",
    "    \n",
    "    # inputs\n",
    "    inp1 = nengo.Node(np.arange(3))\n",
    "    inp2 = nengo.Node(np.arange(9))\n",
    "    inp3 = nengo.Node(np.arange(27))\n",
    "    \n",
    "    # several example projections\n",
    "    pj_12 = Projection([3,3], [3], {\"0\": \"1\"}, 'sum').make_node()\n",
    "    pj_13 = Projection([3,3,3], [3], dm4, 'max').make_node()\n",
    "    pj_23 = Projection([3,3,3], [3,3], {\"0\": \"1\", \"1\": \"2\"}, 'sum').make_node()\n",
    "    pj_21 = Projection([3], [3,3], {\"0\": \"0\", \"1\": False}, 'sum').make_node()\n",
    "    print('creation of 21 node done')\n",
    "    pj_31 = Projection([3], [3,3,3], dm2, 'sum').make_node()\n",
    "    pj_32 = Projection([3,3], [3,3,3], dm1, 'sum').make_node()\n",
    "    \n",
    "    # connections\n",
    "    nengo.Connection(inp1, pj_12, synapse=0)\n",
    "    nengo.Connection(inp1, pj_13, synapse=0)\n",
    "    nengo.Connection(inp2, pj_23, synapse=0)\n",
    "    nengo.Connection(inp2, pj_21, synapse=0)\n",
    "    nengo.Connection(inp3, pj_31, synapse=0)\n",
    "    nengo.Connection(inp3, pj_32, synapse=0)\n",
    "\n",
    "    # probes\n",
    "    probe_12 = nengo.Probe(pj_12)\n",
    "    probe_13 = nengo.Probe(pj_13)\n",
    "    probe_23 = nengo.Probe(pj_23)\n",
    "    probe_21 = nengo.Probe(pj_21)\n",
    "    probe_31 = nengo.Probe(pj_31)\n",
    "    probe_32 = nengo.Probe(pj_32)\n",
    "\n",
    "    \n",
    "sim6 = nengo.Simulator(model6)\n",
    "with sim6:\n",
    "    sim6.run(0.01)"
   ]
  },
  {
   "cell_type": "code",
   "execution_count": 56,
   "metadata": {
    "collapsed": true
   },
   "outputs": [
    {
     "name": "stdout",
     "output_type": "stream",
     "text": [
      "Input1\n",
      "[[0. 1. 2.]\n",
      " [0. 1. 2.]\n",
      " [0. 1. 2.]]\n",
      "\n",
      "[[[0. 1. 2.]\n",
      "  [0. 1. 2.]\n",
      "  [0. 1. 2.]]\n",
      "\n",
      " [[0. 1. 2.]\n",
      "  [0. 1. 2.]\n",
      "  [0. 1. 2.]]\n",
      "\n",
      " [[0. 1. 2.]\n",
      "  [0. 1. 2.]\n",
      "  [0. 1. 2.]]]\n",
      "\n",
      "Input2\n",
      "[ 3. 12. 21.]\n",
      "\n",
      "[[[0. 1. 2.]\n",
      "  [3. 4. 5.]\n",
      "  [6. 7. 8.]]\n",
      "\n",
      " [[0. 1. 2.]\n",
      "  [3. 4. 5.]\n",
      "  [6. 7. 8.]]\n",
      "\n",
      " [[0. 1. 2.]\n",
      "  [3. 4. 5.]\n",
      "  [6. 7. 8.]]]\n",
      "\n",
      "Input3\n",
      "[ 90. 117. 144.]\n",
      "\n",
      "[[ 9. 36. 63.]\n",
      " [12. 39. 66.]\n",
      " [15. 42. 69.]]\n"
     ]
    }
   ],
   "source": [
    "print('Input1')\n",
    "print(sim6.data[probe_12][1,:].reshape(3,3))\n",
    "print()\n",
    "print(sim6.data[probe_13][1,:].reshape(3,3,3))\n",
    "print()\n",
    "print('Input2')\n",
    "print(sim6.data[probe_21][1,:])\n",
    "print()\n",
    "print(sim6.data[probe_23][1,:].reshape(3,3,3))\n",
    "print()\n",
    "print('Input3')\n",
    "print(sim6.data[probe_31][1,:])\n",
    "print()\n",
    "print(sim6.data[probe_32][1,:].reshape(3,3))"
   ]
  },
  {
   "cell_type": "markdown",
   "metadata": {},
   "source": [
    "# Convolution"
   ]
  },
  {
   "cell_type": "code",
   "execution_count": 135,
   "metadata": {},
   "outputs": [],
   "source": [
    "class GaussKernel(object):\n",
    "    def __init__(self, c, sigma, normalize=True, dims=2):\n",
    "        self.c = c\n",
    "        self.sigma = sigma\n",
    "        self.normalize = normalize\n",
    "        self.kernel_width = int(np.ceil(sigma*5)) # limit is always 5 \n",
    "        # kernel width should always be an odd number --> like that in cedar\n",
    "        if self.kernel_width % 2 == 0:\n",
    "            self.kernel_width += 1\n",
    "        self.dims = dims\n",
    "        \n",
    "        x = np.arange(self.kernel_width)\n",
    "        cx = self.kernel_width//2\n",
    "        \n",
    "        if self.dims == 1 or self.dims == 0:\n",
    "            dx = np.abs(x - cx)\n",
    "            \n",
    "        elif self.dims == 2:\n",
    "            grid_x, grid_y = np.meshgrid(x, x)\n",
    "            dx = np.sqrt((grid_x - cx)**2 + (grid_y - cx)**2)\n",
    "         \n",
    "        elif self.dims == 3:\n",
    "            grid_x, grid_y, grid_z = np.meshgrid(x, x, x)\n",
    "            dx = np.sqrt((grid_x - cx)**2 + (grid_y - cx)**2 + (grid_z - cx)**2)\n",
    "            \n",
    "        kernel_matrix = np.exp(-dx**2 / (2*self.sigma**2))\n",
    "        if self.normalize:\n",
    "            kernel_matrix /= np.sum(kernel_matrix)\n",
    "        self.kernel_matrix = self.c * kernel_matrix\n",
    "        \n",
    "        # if the kernel is 0-dimensional it only consists of the central scalar value\n",
    "        # need to compute from 1-dimensional kernel for normalizaton to work correctly\n",
    "        if self.dims == 0:\n",
    "            self.kernel_matrix = self.kernel_matrix[cx]\n",
    "            \n",
    "    def __call__(self):\n",
    "        return self.kernel_matrix\n",
    "    \n",
    "    \n",
    "class BoxKernel(object):\n",
    "    ''' Implementation of the BoxKernel of cedar.\n",
    "        Since the BoxKernel is only used with 0-dimensional fields in the \n",
    "        architecture this is a simplified implementation of the BoxKernel\n",
    "        without the width parameter which is only needed for 1- or higher \n",
    "        dimensional fields.\n",
    "    '''\n",
    "    def __init__(self, amplitude):\n",
    "        # dimensionality of BoxKernel always 0\n",
    "        self.dims = 0 \n",
    "        self.amplitude = amplitude\n",
    "        self.kernel_matrix = amplitude\n",
    "        \n",
    "    def __call__(self):\n",
    "        return self.kernel_matrix\n",
    "    \n",
    "\n",
    "def pad_and_convolve(inp, kernel, border):\n",
    "    \n",
    "    # test if input consists of more than one number, i.e. field not 0-dimensional\n",
    "    if inp.shape != ():\n",
    "        # compute padding values\n",
    "        kernel_width = kernel.shape[0]\n",
    "        pad_width_f = kernel_width//2\n",
    "        pad_width_b = kernel_width//2 if kernel_width % 2 == 1 else kernel_width//2 - 1 \n",
    "\n",
    "        # translate border type to boundary mode\n",
    "        mode = 'wrap' if border == 'cyclic' else 'constant'\n",
    "        # pad the input\n",
    "        inp_padded = np.pad(inp, pad_width=(pad_width_f, pad_width_b), mode=mode)\n",
    "    \n",
    "    # otherwise the kernel is just a scalar and can directly be convolved with the \n",
    "    # scalar input\n",
    "    else:\n",
    "        inp_padded = inp\n",
    "    # perform the convolution\n",
    "    conv = scipy.signal.convolve(inp_padded, kernel, mode='valid')\n",
    "    \n",
    "    return conv\n",
    "\n",
    "\n",
    "class Convolution(object):\n",
    "    def __init__(self, sizes, kernel, border_type):\n",
    "        self.sizes = sizes\n",
    "        self.kernel = kernel\n",
    "        self.border_type = border_type\n",
    "        \n",
    "    def update(self, inp):\n",
    "        out = inp.reshape(*self.sizes)\n",
    "        return pad_and_convolve(out, self.kernel(), self.border_type).flatten()\n",
    "    \n",
    "    def make_node(self):\n",
    "        return nengo.Node(lambda t, x: self.update(x), size_in=np.prod(self.sizes), \n",
    "                          size_out=np.prod(self.sizes))"
   ]
  },
  {
   "cell_type": "code",
   "execution_count": 175,
   "metadata": {},
   "outputs": [
    {
     "data": {
      "text/html": [
       "\n",
       "                <div id=\"d598726d-1776-424e-a59d-577555a132a5\" style=\"\n",
       "                    width: 100%;\n",
       "                    border: 1px solid #cfcfcf;\n",
       "                    border-radius: 4px;\n",
       "                    text-align: center;\n",
       "                    position: relative;\">\n",
       "                  <div class=\"pb-text\" style=\"\n",
       "                      position: absolute;\n",
       "                      width: 100%;\">\n",
       "                    0%\n",
       "                  </div>\n",
       "                  <div class=\"pb-fill\" style=\"\n",
       "                      background-color: #bdd2e6;\n",
       "                      width: 0%;\">\n",
       "                    <style type=\"text/css\" scoped=\"scoped\">\n",
       "                        @keyframes pb-fill-anim {\n",
       "                            0% { background-position: 0 0; }\n",
       "                            100% { background-position: 100px 0; }\n",
       "                        }\n",
       "                    </style>\n",
       "                    &nbsp;\n",
       "                  </div>\n",
       "                </div>"
      ],
      "text/plain": [
       "HtmlProgressBar cannot be displayed. Please use the TerminalProgressBar. It can be enabled with `nengo.rc.set('progress', 'progress_bar', 'nengo.utils.progress.TerminalProgressBar')`."
      ]
     },
     "metadata": {},
     "output_type": "display_data"
    },
    {
     "data": {
      "application/javascript": [
       "\n",
       "              (function () {\n",
       "                  var root = document.getElementById('d598726d-1776-424e-a59d-577555a132a5');\n",
       "                  var text = root.getElementsByClassName('pb-text')[0];\n",
       "                  var fill = root.getElementsByClassName('pb-fill')[0];\n",
       "\n",
       "                  text.innerHTML = 'Build finished in 0:00:01.';\n",
       "                  \n",
       "            fill.style.width = '100%';\n",
       "            fill.style.animation = 'pb-fill-anim 2s linear infinite';\n",
       "            fill.style.backgroundSize = '100px 100%';\n",
       "            fill.style.backgroundImage = 'repeating-linear-gradient(' +\n",
       "                '90deg, #bdd2e6, #edf2f8 40%, #bdd2e6 80%, #bdd2e6)';\n",
       "        \n",
       "                  \n",
       "                fill.style.animation = 'none';\n",
       "                fill.style.backgroundImage = 'none';\n",
       "            \n",
       "              })();\n",
       "        "
      ],
      "text/plain": [
       "<IPython.core.display.Javascript object>"
      ]
     },
     "metadata": {},
     "output_type": "display_data"
    },
    {
     "data": {
      "text/html": [
       "\n",
       "                <div id=\"340156ff-44c3-403d-829e-aa9b5b7891a7\" style=\"\n",
       "                    width: 100%;\n",
       "                    border: 1px solid #cfcfcf;\n",
       "                    border-radius: 4px;\n",
       "                    text-align: center;\n",
       "                    position: relative;\">\n",
       "                  <div class=\"pb-text\" style=\"\n",
       "                      position: absolute;\n",
       "                      width: 100%;\">\n",
       "                    0%\n",
       "                  </div>\n",
       "                  <div class=\"pb-fill\" style=\"\n",
       "                      background-color: #bdd2e6;\n",
       "                      width: 0%;\">\n",
       "                    <style type=\"text/css\" scoped=\"scoped\">\n",
       "                        @keyframes pb-fill-anim {\n",
       "                            0% { background-position: 0 0; }\n",
       "                            100% { background-position: 100px 0; }\n",
       "                        }\n",
       "                    </style>\n",
       "                    &nbsp;\n",
       "                  </div>\n",
       "                </div>"
      ],
      "text/plain": [
       "HtmlProgressBar cannot be displayed. Please use the TerminalProgressBar. It can be enabled with `nengo.rc.set('progress', 'progress_bar', 'nengo.utils.progress.TerminalProgressBar')`."
      ]
     },
     "metadata": {},
     "output_type": "display_data"
    },
    {
     "data": {
      "application/javascript": [
       "\n",
       "              (function () {\n",
       "                  var root = document.getElementById('340156ff-44c3-403d-829e-aa9b5b7891a7');\n",
       "                  var text = root.getElementsByClassName('pb-text')[0];\n",
       "                  var fill = root.getElementsByClassName('pb-fill')[0];\n",
       "\n",
       "                  text.innerHTML = 'Simulation finished in 0:00:01.';\n",
       "                  \n",
       "            if (100.0 > 0.) {\n",
       "                fill.style.transition = 'width 0.1s linear';\n",
       "            } else {\n",
       "                fill.style.transition = 'none';\n",
       "            }\n",
       "\n",
       "            fill.style.width = '100.0%';\n",
       "            fill.style.animation = 'none';\n",
       "            fill.style.backgroundImage = 'none'\n",
       "        \n",
       "                  \n",
       "                fill.style.animation = 'none';\n",
       "                fill.style.backgroundImage = 'none';\n",
       "            \n",
       "              })();\n",
       "        "
      ],
      "text/plain": [
       "<IPython.core.display.Javascript object>"
      ]
     },
     "metadata": {},
     "output_type": "display_data"
    }
   ],
   "source": [
    "model6 = nengo.Network()\n",
    "\n",
    "sizes = [50,50]\n",
    "with model6:\n",
    "    \n",
    "    \n",
    "    inp_conv = GaussInput(sizes, [4,6], [10,10], 3).make_node()\n",
    "    conv = Convolution(sizes, GaussKernel(5,3), 'cyclic').make_node()\n",
    "\n",
    "    nengo.Connection(inp_conv, conv, synapse=0)\n",
    "    \n",
    "    probe_inp_conv = nengo.Probe(inp_conv)\n",
    "    probe_conv = nengo.Probe(conv)\n",
    "    \n",
    "sim6 = nengo.Simulator(model6)\n",
    "with sim6:\n",
    "    sim6.run(0.01)"
   ]
  },
  {
   "cell_type": "code",
   "execution_count": 176,
   "metadata": {},
   "outputs": [
    {
     "data": {
      "image/png": "[encoded data removed]",
      "text/plain": [
       "<Figure size 432x288 with 4 Axes>"
      ]
     },
     "metadata": {
      "needs_background": "light"
     },
     "output_type": "display_data"
    }
   ],
   "source": [
    "plt.figure()\n",
    "plt.subplot(1,2,1)\n",
    "plt.imshow(sim6.data[probe_inp_conv][1].reshape(*sizes), cmap='jet')\n",
    "plt.colorbar(ticks=[sim6.data[probe_inp_conv][1].min(),\n",
    "                    sim6.data[probe_inp_conv][1].max()])\n",
    "plt.subplot(1,2,2)\n",
    "plt.imshow(sim6.data[probe_conv][1].reshape(*sizes), cmap='jet')\n",
    "plt.colorbar(ticks=[sim6.data[probe_conv][1].min(),\n",
    "                    sim6.data[probe_conv][1].max()])\n",
    "plt.show()"
   ]
  },
  {
   "cell_type": "code",
   "execution_count": null,
   "metadata": {},
   "outputs": [],
   "source": []
  },
  {
   "cell_type": "markdown",
   "metadata": {},
   "source": [
    "# SpatialTemplate"
   ]
  },
  {
   "cell_type": "code",
   "execution_count": 128,
   "metadata": {},
   "outputs": [],
   "source": [
    "class AbsSigmoid(object):\n",
    "    def __init__(self, beta=100, threshold=0):\n",
    "        self.beta = beta\n",
    "        self.threshold = threshold\n",
    "    def __call__(self, x):\n",
    "        return 0.5 * (1 + self.beta * (x-self.threshold) / (1 + self.beta * np.abs(x-self.threshold)))\n",
    "\n",
    "abssigmoid = AbsSigmoid()\n",
    "\n",
    "def create_template(sizes, invert_sides, horizontal_pattern, sigma_th, \n",
    "                    mu_r, sigma_r, sigma_sigmoid):\n",
    "    if invert_sides:\n",
    "        invert_sides = -1\n",
    "    else:\n",
    "        invert_sides = 1\n",
    "        \n",
    "    size_x = sizes[0]\n",
    "    size_y = sizes[1]\n",
    "    \n",
    "    shift_x = ((size_x - 1) / 2)\n",
    "    shift_y = ((size_y - 1) / 2)\n",
    "    \n",
    "    x_grid, y_grid = np.meshgrid(np.arange(size_x), np.arange(size_y))\n",
    "    \n",
    "    x_shifted = x_grid - shift_x\n",
    "    y_shifted = y_grid - shift_y\n",
    "    \n",
    "    x = x_shifted\n",
    "    y = y_shifted \n",
    "    \n",
    "    if horizontal_pattern:\n",
    "        x = y_shifted\n",
    "        y = x_shifted\n",
    "        \n",
    "    th = np.arctan2(y, invert_sides * x)\n",
    "    r = np.log(np.sqrt(x**2 + y**2))\n",
    "    \n",
    "    gaussian = np.exp(-0.5 * th**2 / sigma_th**2 \\\n",
    "                      - 0.5 * (r - mu_r)**2 / sigma_r**2)\n",
    "    sigmoid = invert_sides * abssigmoid(x)\n",
    "    \n",
    "    pattern = (1 - sigma_sigmoid) * gaussian + sigma_sigmoid * sigmoid\n",
    "    \n",
    "    return pattern.transpose(1,0)\n",
    "    \n",
    "    \n",
    "class SpatialTemplate(object):\n",
    "    def __inti__(self, sizes, invert_sides, horizontal_pattern, sigma_th_hor, \n",
    "                 mu_r, sigma_r, sigma_sigmoid_fw):\n",
    "        self.sizes = sizes\n",
    "        self.invert_sides = invert_sides\n",
    "        self.horizontal_pattern = horizontal_pattern\n",
    "        self.sigma_th_hor = sigma_th_hor\n",
    "        self.mu_r = mu_r\n",
    "        self.sigma_r = sigma_r\n",
    "        self.sigma_sigmoid_fw = self.sigma_sigmoid_fw\n",
    "        \n",
    "    def make_node(self):\n",
    "        return nengo.Node(create_template(self.sizes, self.invert_sides, self.horizontal_pattern,\n",
    "                                          self.sigma_th_hor, self.mu_r, self.sigma_r, \n",
    "                                          self.sigma_sigmoid_fw).flatten())"
   ]
  },
  {
   "cell_type": "code",
   "execution_count": 127,
   "metadata": {},
   "outputs": [
    {
     "name": "stdout",
     "output_type": "stream",
     "text": [
      "(50, 40)\n"
     ]
    },
    {
     "data": {
      "image/png": "[encoded data removed]",
      "text/plain": [
       "<Figure size 432x288 with 2 Axes>"
      ]
     },
     "metadata": {
      "needs_background": "light"
     },
     "output_type": "display_data"
    }
   ],
   "source": [
    "model7 = nengo.Network()\n",
    "\n",
    "with model7:\n",
    "    \n",
    "    inp1 = nengo.Node(np.arange(16))\n",
    "    flip_tt = Flip([4,4], [True, True]).make_node()\n",
    "    flip_tf = Flip([4,4], [True, False]).make_node()\n",
    "    flip_ff = Flip([4,4], [False, False]).make_node()\n",
    "    \n",
    "    nengo.Connection(inp1, flip_tt, synapse=0)\n",
    "    nengo.Connection(inp1, flip_tf, synapse=0)\n",
    "    nengo.Connection(inp1, flip_ff, synapse=0)\n",
    "\n",
    "    probe_tt = nengo.Probe(flip_tt)\n",
    "    probe_tf = nengo.Probe(flip_tf)\n",
    "    probe_ff = nengo.Probe(flip_ff)\n",
    "    \n",
    "sim7 = nengo.Simulator(model7)\n",
    "with sim7:\n",
    "    sim7.run(0.01)"
   ]
  },
  {
   "cell_type": "code",
   "execution_count": 61,
   "metadata": {},
   "outputs": [
    {
     "data": {
      "text/plain": [
       "array([[ 0,  1,  2,  3,  4],\n",
       "       [ 5,  6,  7,  8,  9],\n",
       "       [10, 11, 12, 13, 14],\n",
       "       [15, 16, 17, 18, 19],\n",
       "       [20, 21, 22, 23, 24]])"
      ]
     },
     "execution_count": 61,
     "metadata": {},
     "output_type": "execute_result"
    }
   ],
   "source": [
    "x, y = np.meshgrid(np.arange(5), np.arange(5))\n",
    "x+y*5"
   ]
  },
  {
   "cell_type": "code",
   "execution_count": 62,
   "metadata": {},
   "outputs": [
    {
     "ename": "SyntaxError",
     "evalue": "unexpected EOF while parsing (<ipython-input-62-cdfaec0e87d7>, line 4)",
     "output_type": "error",
     "traceback": [
      "\u001b[0;36m  File \u001b[0;32m\"<ipython-input-62-cdfaec0e87d7>\"\u001b[0;36m, line \u001b[0;32m4\u001b[0m\n\u001b[0;31m    \u001b[0m\n\u001b[0m    ^\u001b[0m\n\u001b[0;31mSyntaxError\u001b[0m\u001b[0;31m:\u001b[0m unexpected EOF while parsing\n"
     ]
    }
   ],
   "source": [
    "# mat = np.zeros(5,5)\n",
    "# for i in range(5):\n",
    "#     for j in range(5):\n",
    "#         mat[i,j] = "
   ]
  },
  {
   "cell_type": "markdown",
   "metadata": {},
   "source": [
    "# Boost"
   ]
  },
  {
   "cell_type": "code",
   "execution_count": null,
   "metadata": {},
   "outputs": [],
   "source": []
  },
  {
   "cell_type": "code",
   "execution_count": null,
   "metadata": {},
   "outputs": [],
   "source": []
  },
  {
   "cell_type": "code",
   "execution_count": null,
   "metadata": {},
   "outputs": [],
   "source": []
  },
  {
   "cell_type": "code",
   "execution_count": null,
   "metadata": {},
   "outputs": [],
   "source": []
  }
 ],
 "metadata": {
  "kernelspec": {
   "display_name": "Python 3",
   "language": "python",
   "name": "python3"
  },
  "language_info": {
   "codemirror_mode": {
    "name": "ipython",
    "version": 3
   },
   "file_extension": ".py",
   "mimetype": "text/x-python",
   "name": "python",
   "nbconvert_exporter": "python",
   "pygments_lexer": "ipython3",
   "version": "3.7.3"
  }
 },
 "nbformat": 4,
 "nbformat_minor": 2
}
